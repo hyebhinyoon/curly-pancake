{
 "cells": [
  {
   "cell_type": "markdown",
   "id": "db86bef7-a42f-423b-a382-91929fdc3716",
   "metadata": {
    "tags": []
   },
   "source": [
    "Learn X in Y minutes\n",
    "===================="
   ]
  },
  {
   "cell_type": "markdown",
   "id": "3d2b8fe9-fd52-427a-a53c-be52c5fd4acb",
   "metadata": {
    "tags": []
   },
   "source": [
    "1. Primitive Datatypes and Operators\n",
    "------------------------------------"
   ]
  },
  {
   "cell_type": "markdown",
   "id": "5f334073-1d0c-4d5f-86c2-cb00d8559628",
   "metadata": {},
   "source": [
    "* 사칙연산"
   ]
  },
  {
   "cell_type": "code",
   "execution_count": 6,
   "id": "19199b0e-5b41-47ad-bd27-46f4d3ae18a9",
   "metadata": {
    "tags": []
   },
   "outputs": [
    {
     "data": {
      "text/plain": [
       "3"
      ]
     },
     "execution_count": 6,
     "metadata": {},
     "output_type": "execute_result"
    }
   ],
   "source": [
    "#You have numbers\n",
    "3"
   ]
  },
  {
   "cell_type": "code",
   "execution_count": 7,
   "id": "725f4906-9d11-437a-af37-fe90f34d6cee",
   "metadata": {
    "tags": []
   },
   "outputs": [
    {
     "data": {
      "text/plain": [
       "2"
      ]
     },
     "execution_count": 7,
     "metadata": {},
     "output_type": "execute_result"
    }
   ],
   "source": [
    "#Math is what you would expect\n",
    "1+1"
   ]
  },
  {
   "cell_type": "code",
   "execution_count": 8,
   "id": "33f7413a-0827-4b07-ab3f-7aa6c03d6654",
   "metadata": {
    "tags": []
   },
   "outputs": [
    {
     "data": {
      "text/plain": [
       "7"
      ]
     },
     "execution_count": 8,
     "metadata": {},
     "output_type": "execute_result"
    }
   ],
   "source": [
    "8-1"
   ]
  },
  {
   "cell_type": "code",
   "execution_count": 9,
   "id": "6ea9055c-f8ed-45f6-a66a-3ee14f2cc07d",
   "metadata": {
    "tags": []
   },
   "outputs": [
    {
     "data": {
      "text/plain": [
       "20"
      ]
     },
     "execution_count": 9,
     "metadata": {},
     "output_type": "execute_result"
    }
   ],
   "source": [
    "10*2"
   ]
  },
  {
   "cell_type": "code",
   "execution_count": 10,
   "id": "e4337764-b983-4abc-8c17-171a488c179b",
   "metadata": {
    "tags": []
   },
   "outputs": [
    {
     "data": {
      "text/plain": [
       "7.0"
      ]
     },
     "execution_count": 10,
     "metadata": {},
     "output_type": "execute_result"
    }
   ],
   "source": [
    "35/5"
   ]
  },
  {
   "cell_type": "code",
   "execution_count": 11,
   "id": "dae7f2bc-e3b3-4946-a0bc-003287929207",
   "metadata": {
    "tags": []
   },
   "outputs": [
    {
     "data": {
      "text/plain": [
       "1"
      ]
     },
     "execution_count": 11,
     "metadata": {},
     "output_type": "execute_result"
    }
   ],
   "source": [
    "# Integer division rounds down for both positive and negative numbers\n",
    "5//3"
   ]
  },
  {
   "cell_type": "code",
   "execution_count": 12,
   "id": "3dfca7f0-3687-4b50-80a7-d0fe18af6b9e",
   "metadata": {
    "tags": []
   },
   "outputs": [
    {
     "data": {
      "text/plain": [
       "-2"
      ]
     },
     "execution_count": 12,
     "metadata": {},
     "output_type": "execute_result"
    }
   ],
   "source": [
    "-5//3"
   ]
  },
  {
   "cell_type": "code",
   "execution_count": 13,
   "id": "6a2b1daa-ec9c-44aa-9ae1-420206afcb5a",
   "metadata": {
    "tags": []
   },
   "outputs": [
    {
     "data": {
      "text/plain": [
       "1.0"
      ]
     },
     "execution_count": 13,
     "metadata": {},
     "output_type": "execute_result"
    }
   ],
   "source": [
    "5.0//3.0"
   ]
  },
  {
   "cell_type": "code",
   "execution_count": 14,
   "id": "0c66c8a0-fc64-4936-ba6f-31246bf36408",
   "metadata": {
    "tags": []
   },
   "outputs": [
    {
     "data": {
      "text/plain": [
       "-2.0"
      ]
     },
     "execution_count": 14,
     "metadata": {},
     "output_type": "execute_result"
    }
   ],
   "source": [
    "-5.0//3.0"
   ]
  },
  {
   "cell_type": "code",
   "execution_count": 15,
   "id": "f729b6d8-5023-443f-9062-8bcedaec0f88",
   "metadata": {
    "tags": []
   },
   "outputs": [
    {
     "data": {
      "text/plain": [
       "3.3333333333333335"
      ]
     },
     "execution_count": 15,
     "metadata": {},
     "output_type": "execute_result"
    }
   ],
   "source": [
    "# The result of division is always a float\n",
    "10.0/3"
   ]
  },
  {
   "cell_type": "code",
   "execution_count": 16,
   "id": "63a69eb2-606b-4d4e-ab1a-7ec2c363ff2a",
   "metadata": {
    "tags": []
   },
   "outputs": [
    {
     "data": {
      "text/plain": [
       "1"
      ]
     },
     "execution_count": 16,
     "metadata": {},
     "output_type": "execute_result"
    }
   ],
   "source": [
    "# Modulo operation\n",
    "7%3"
   ]
  },
  {
   "cell_type": "code",
   "execution_count": 17,
   "id": "7f4efaa0-4d34-47c2-b6ab-a0c5c6e18353",
   "metadata": {
    "tags": []
   },
   "outputs": [
    {
     "data": {
      "text/plain": [
       "2"
      ]
     },
     "execution_count": 17,
     "metadata": {},
     "output_type": "execute_result"
    }
   ],
   "source": [
    "# i%j have the same sign as j, unlike C\n",
    "# (3*3)-7 ==> 2\n",
    "-7%3"
   ]
  },
  {
   "cell_type": "code",
   "execution_count": 18,
   "id": "3a400f81-a354-4b84-9e3b-92970695ed46",
   "metadata": {},
   "outputs": [
    {
     "data": {
      "text/plain": [
       "8"
      ]
     },
     "execution_count": 18,
     "metadata": {},
     "output_type": "execute_result"
    }
   ],
   "source": [
    "# Exponentiation (x**y, x to the yth power)\n",
    "2**3"
   ]
  },
  {
   "cell_type": "code",
   "execution_count": 19,
   "id": "b080ad34-49a4-4296-a40c-0bdc51347137",
   "metadata": {
    "tags": []
   },
   "outputs": [
    {
     "data": {
      "text/plain": [
       "7"
      ]
     },
     "execution_count": 19,
     "metadata": {},
     "output_type": "execute_result"
    }
   ],
   "source": [
    "# Enforce precedence with parentheses\n",
    "1+3*2"
   ]
  },
  {
   "cell_type": "code",
   "execution_count": 20,
   "id": "65447993-bc3d-46ba-a04b-9aa2f884d08f",
   "metadata": {
    "tags": []
   },
   "outputs": [
    {
     "data": {
      "text/plain": [
       "8"
      ]
     },
     "execution_count": 20,
     "metadata": {},
     "output_type": "execute_result"
    }
   ],
   "source": [
    "(1+3)*2"
   ]
  },
  {
   "cell_type": "markdown",
   "id": "6c5264a0-9347-4107-af89-67488b115a71",
   "metadata": {},
   "source": [
    "* True/False"
   ]
  },
  {
   "cell_type": "code",
   "execution_count": 21,
   "id": "b74b4ecc-76f5-4d44-ba29-f4c6da9e9a11",
   "metadata": {
    "tags": []
   },
   "outputs": [
    {
     "data": {
      "text/plain": [
       "True"
      ]
     },
     "execution_count": 21,
     "metadata": {},
     "output_type": "execute_result"
    }
   ],
   "source": [
    "# Boolean values are primitives (Note: the capitalization)\n",
    "True"
   ]
  },
  {
   "cell_type": "code",
   "execution_count": 22,
   "id": "0e7401d4-db7d-48c3-b56e-feaf6e127e9d",
   "metadata": {
    "tags": []
   },
   "outputs": [
    {
     "data": {
      "text/plain": [
       "False"
      ]
     },
     "execution_count": 22,
     "metadata": {},
     "output_type": "execute_result"
    }
   ],
   "source": [
    "# negate with not\n",
    "not True"
   ]
  },
  {
   "cell_type": "code",
   "execution_count": 23,
   "id": "f56953b4-0c07-4470-ab76-b2ea15eac581",
   "metadata": {
    "tags": []
   },
   "outputs": [
    {
     "data": {
      "text/plain": [
       "False"
      ]
     },
     "execution_count": 23,
     "metadata": {},
     "output_type": "execute_result"
    }
   ],
   "source": [
    "# Boolean Operators\n",
    "# Note \"and\" and \"or\" are case-sensitive\n",
    "True and False"
   ]
  },
  {
   "cell_type": "code",
   "execution_count": 24,
   "id": "2c68e74d-9663-46c0-bed9-a28161b947e1",
   "metadata": {
    "tags": []
   },
   "outputs": [
    {
     "data": {
      "text/plain": [
       "True"
      ]
     },
     "execution_count": 24,
     "metadata": {},
     "output_type": "execute_result"
    }
   ],
   "source": [
    "False or True"
   ]
  },
  {
   "cell_type": "code",
   "execution_count": 27,
   "id": "e71c6c8a-bf56-43c6-b46c-60d89973bec7",
   "metadata": {
    "tags": []
   },
   "outputs": [
    {
     "data": {
      "text/plain": [
       "True"
      ]
     },
     "execution_count": 27,
     "metadata": {},
     "output_type": "execute_result"
    }
   ],
   "source": [
    "# when use \"and\" and both are same, return true. when both are different, return false \n",
    "True and True"
   ]
  },
  {
   "cell_type": "code",
   "execution_count": 28,
   "id": "be4db3d1-97b2-42ac-a576-f2f013f28cda",
   "metadata": {
    "tags": []
   },
   "outputs": [
    {
     "data": {
      "text/plain": [
       "2"
      ]
     },
     "execution_count": 28,
     "metadata": {},
     "output_type": "execute_result"
    }
   ],
   "source": [
    "# True and False are actually 1 and 0 but with different keyeords\n",
    "True+True"
   ]
  },
  {
   "cell_type": "code",
   "execution_count": 29,
   "id": "7b5f4361-a104-44a7-bbba-e3e937484e37",
   "metadata": {
    "tags": []
   },
   "outputs": [
    {
     "data": {
      "text/plain": [
       "-5"
      ]
     },
     "execution_count": 29,
     "metadata": {},
     "output_type": "execute_result"
    }
   ],
   "source": [
    "False-5"
   ]
  },
  {
   "cell_type": "code",
   "execution_count": 30,
   "id": "49dc328e-09f4-42a6-a106-6a32e94a1004",
   "metadata": {
    "tags": []
   },
   "outputs": [
    {
     "data": {
      "text/plain": [
       "True"
      ]
     },
     "execution_count": 30,
     "metadata": {},
     "output_type": "execute_result"
    }
   ],
   "source": [
    "# Conparison operators look at the numerical value of True and False\n",
    "0==False"
   ]
  },
  {
   "cell_type": "code",
   "execution_count": 31,
   "id": "948f1775-5a7a-4c5a-ae97-05d6c49fef16",
   "metadata": {
    "tags": []
   },
   "outputs": [
    {
     "data": {
      "text/plain": [
       "False"
      ]
     },
     "execution_count": 31,
     "metadata": {},
     "output_type": "execute_result"
    }
   ],
   "source": [
    "2==True"
   ]
  },
  {
   "cell_type": "code",
   "execution_count": 41,
   "id": "afac2223-8654-4e79-91ea-00c36a774df0",
   "metadata": {
    "tags": []
   },
   "outputs": [
    {
     "data": {
      "text/plain": [
       "True"
      ]
     },
     "execution_count": 41,
     "metadata": {},
     "output_type": "execute_result"
    }
   ],
   "source": [
    "-5!=False\n",
    "# != means \"not same\""
   ]
  },
  {
   "cell_type": "markdown",
   "id": "6e48ede5-deee-4552-869f-83e055108f47",
   "metadata": {},
   "source": [
    "* bool 연산"
   ]
  },
  {
   "cell_type": "code",
   "execution_count": 40,
   "id": "e44ab424-94ce-42c0-9a70-5e6c26db43df",
   "metadata": {
    "tags": []
   },
   "outputs": [
    {
     "data": {
      "text/plain": [
       "False"
      ]
     },
     "execution_count": 40,
     "metadata": {},
     "output_type": "execute_result"
    }
   ],
   "source": [
    "# None, 0, and empty strings/lists/dicts/tuples/sets all evaluate to False.\n",
    "# All other values are True\n",
    "bool(0)\n",
    "# bool(\"\"), bool([]), bool({}), bool(()), bool(set()) also same"
   ]
  },
  {
   "cell_type": "code",
   "execution_count": 39,
   "id": "c6e213fb-0430-4e89-9a97-be7db7b49b18",
   "metadata": {
    "tags": []
   },
   "outputs": [
    {
     "data": {
      "text/plain": [
       "True"
      ]
     },
     "execution_count": 39,
     "metadata": {},
     "output_type": "execute_result"
    }
   ],
   "source": [
    "bool(4)\n",
    "# any other numbers return True"
   ]
  },
  {
   "cell_type": "markdown",
   "id": "2e30f9b3-fe78-4a52-b492-646ca8c7d02e",
   "metadata": {},
   "source": [
    "* And/Or"
   ]
  },
  {
   "cell_type": "code",
   "execution_count": 36,
   "id": "b28e1e9e-f67a-4102-b0a1-48f0951f935b",
   "metadata": {
    "tags": []
   },
   "outputs": [
    {
     "data": {
      "text/plain": [
       "0"
      ]
     },
     "execution_count": 36,
     "metadata": {},
     "output_type": "execute_result"
    }
   ],
   "source": [
    "# Using boolean logical operators on ints casts them to booleans for evaluation\n",
    "# But their non-cast value is returned. Dont mix up with bool(ints) and bitwise\n",
    "# and/or (&,\\)\n",
    "0 and 2"
   ]
  },
  {
   "cell_type": "code",
   "execution_count": 38,
   "id": "9a5b1397-4827-4139-9989-092357d4cfa3",
   "metadata": {
    "tags": []
   },
   "outputs": [
    {
     "data": {
      "text/plain": [
       "-5"
      ]
     },
     "execution_count": 38,
     "metadata": {},
     "output_type": "execute_result"
    }
   ],
   "source": [
    "-5 or 0\n",
    "# \"-5\" means true. (-5 and 0 are different, so that return true)"
   ]
  },
  {
   "cell_type": "code",
   "execution_count": 42,
   "id": "4a298d87-0f9e-45a3-a93b-34b637ba3cf3",
   "metadata": {
    "tags": []
   },
   "outputs": [
    {
     "data": {
      "text/plain": [
       "True"
      ]
     },
     "execution_count": 42,
     "metadata": {},
     "output_type": "execute_result"
    }
   ],
   "source": [
    "# Equality is ==\n",
    "1==1"
   ]
  },
  {
   "cell_type": "code",
   "execution_count": 43,
   "id": "5b98d008-87c2-49c3-b5e5-0e28eea10f5d",
   "metadata": {
    "tags": []
   },
   "outputs": [
    {
     "data": {
      "text/plain": [
       "False"
      ]
     },
     "execution_count": 43,
     "metadata": {},
     "output_type": "execute_result"
    }
   ],
   "source": [
    "1==2"
   ]
  },
  {
   "cell_type": "code",
   "execution_count": 44,
   "id": "fdeb0c25-ca3b-4c6e-a234-d7d03030ef13",
   "metadata": {
    "tags": []
   },
   "outputs": [
    {
     "data": {
      "text/plain": [
       "False"
      ]
     },
     "execution_count": 44,
     "metadata": {},
     "output_type": "execute_result"
    }
   ],
   "source": [
    "# Inequality is !=\n",
    "1!=1"
   ]
  },
  {
   "cell_type": "code",
   "execution_count": 45,
   "id": "d12f532a-2ab6-4330-a327-e0261fed835b",
   "metadata": {
    "tags": []
   },
   "outputs": [
    {
     "data": {
      "text/plain": [
       "True"
      ]
     },
     "execution_count": 45,
     "metadata": {},
     "output_type": "execute_result"
    }
   ],
   "source": [
    "1!=2"
   ]
  },
  {
   "cell_type": "code",
   "execution_count": 46,
   "id": "9731c2ea-5c53-41f6-919f-c420f561cdf2",
   "metadata": {
    "tags": []
   },
   "outputs": [
    {
     "data": {
      "text/plain": [
       "True"
      ]
     },
     "execution_count": 46,
     "metadata": {},
     "output_type": "execute_result"
    }
   ],
   "source": [
    "# More comparison\n",
    "1<10"
   ]
  },
  {
   "cell_type": "code",
   "execution_count": 47,
   "id": "7b3cc014-6b57-441e-a57b-2c67bfc65a26",
   "metadata": {
    "tags": []
   },
   "outputs": [
    {
     "data": {
      "text/plain": [
       "True"
      ]
     },
     "execution_count": 47,
     "metadata": {},
     "output_type": "execute_result"
    }
   ],
   "source": [
    "2<=2"
   ]
  },
  {
   "cell_type": "code",
   "execution_count": 48,
   "id": "252e3205-09d0-46f7-9410-52e25fa90622",
   "metadata": {
    "tags": []
   },
   "outputs": [
    {
     "data": {
      "text/plain": [
       "True"
      ]
     },
     "execution_count": 48,
     "metadata": {},
     "output_type": "execute_result"
    }
   ],
   "source": [
    "# seeing whether a value is in a range\n",
    "1<2 and 2<3"
   ]
  },
  {
   "cell_type": "code",
   "execution_count": 49,
   "id": "e0d0996e-ed17-44a7-957a-cb902be15c2d",
   "metadata": {
    "tags": []
   },
   "outputs": [
    {
     "data": {
      "text/plain": [
       "False"
      ]
     },
     "execution_count": 49,
     "metadata": {},
     "output_type": "execute_result"
    }
   ],
   "source": [
    "2<3 and 3<2"
   ]
  },
  {
   "cell_type": "code",
   "execution_count": 50,
   "id": "b771c17d-698e-4a14-80e3-5dccfdb2747d",
   "metadata": {
    "tags": []
   },
   "outputs": [
    {
     "data": {
      "text/plain": [
       "True"
      ]
     },
     "execution_count": 50,
     "metadata": {},
     "output_type": "execute_result"
    }
   ],
   "source": [
    "# Chaining makes this look nicer\n",
    "1<2<3"
   ]
  },
  {
   "cell_type": "code",
   "execution_count": 51,
   "id": "8ec711d2-1f76-48d5-8920-011f9ee949c1",
   "metadata": {
    "tags": []
   },
   "outputs": [
    {
     "data": {
      "text/plain": [
       "False"
      ]
     },
     "execution_count": 51,
     "metadata": {},
     "output_type": "execute_result"
    }
   ],
   "source": [
    "2<3<2"
   ]
  },
  {
   "cell_type": "code",
   "execution_count": 54,
   "id": "7d8552d0-e286-41c1-8868-78681b4c53c4",
   "metadata": {
    "tags": []
   },
   "outputs": [
    {
     "data": {
      "text/plain": [
       "True"
      ]
     },
     "execution_count": 54,
     "metadata": {},
     "output_type": "execute_result"
    }
   ],
   "source": [
    "# (is vs. ==) is checks if two variables refer to the same object, but ==checks\n",
    "# if the objects pointed to have the same values\n",
    "a=[1,2,3,4]\n",
    "b=a\n",
    "b is a"
   ]
  },
  {
   "cell_type": "code",
   "execution_count": 56,
   "id": "7c8474bd-1519-45e6-887d-abcaf3bbae1a",
   "metadata": {
    "tags": []
   },
   "outputs": [
    {
     "data": {
      "text/plain": [
       "False"
      ]
     },
     "execution_count": 56,
     "metadata": {},
     "output_type": "execute_result"
    }
   ],
   "source": [
    "b=[1,2,3,4,]\n",
    "b is a \n",
    "# need \"b=a\""
   ]
  },
  {
   "cell_type": "markdown",
   "id": "d943658d-9a8a-4129-9df4-ccdfa5dfed15",
   "metadata": {
    "tags": []
   },
   "source": [
    "* Strings"
   ]
  },
  {
   "cell_type": "code",
   "execution_count": 57,
   "id": "780a4ee5-0f18-41ac-af81-ede89fdb494d",
   "metadata": {
    "tags": []
   },
   "outputs": [
    {
     "data": {
      "text/plain": [
       "'This is also a string.'"
      ]
     },
     "execution_count": 57,
     "metadata": {},
     "output_type": "execute_result"
    }
   ],
   "source": [
    "# Strings are created with \" or '\n",
    "\"This is a string.\"\n",
    "'This is also a string.'"
   ]
  },
  {
   "cell_type": "code",
   "execution_count": 58,
   "id": "a08c7ef6-6ab7-4cea-b2b5-3b7c12cc02ea",
   "metadata": {
    "tags": []
   },
   "outputs": [
    {
     "data": {
      "text/plain": [
       "'Hello world!'"
      ]
     },
     "execution_count": 58,
     "metadata": {},
     "output_type": "execute_result"
    }
   ],
   "source": [
    "# Strings can be added too\n",
    "\"Hello \" + \"world!\""
   ]
  },
  {
   "cell_type": "code",
   "execution_count": 60,
   "id": "6e5daffa-85da-4aba-80ce-f28a23308b0d",
   "metadata": {
    "tags": []
   },
   "outputs": [
    {
     "data": {
      "text/plain": [
       "'Hello world!'"
      ]
     },
     "execution_count": 60,
     "metadata": {},
     "output_type": "execute_result"
    }
   ],
   "source": [
    "# String literals (but not variables) can be concatenated without using '+'\n",
    "\"Hello \" \"world!\""
   ]
  },
  {
   "cell_type": "code",
   "execution_count": 61,
   "id": "d96b8d9d-0050-44df-b486-e11ffa105b21",
   "metadata": {
    "tags": []
   },
   "outputs": [
    {
     "data": {
      "text/plain": [
       "'H'"
      ]
     },
     "execution_count": 61,
     "metadata": {},
     "output_type": "execute_result"
    }
   ],
   "source": [
    "# A string can be treated like a list of characters\n",
    "\"Hello world!\"[0]"
   ]
  },
  {
   "cell_type": "code",
   "execution_count": 62,
   "id": "3b9275d4-62f2-4d28-8efc-b3d849081197",
   "metadata": {
    "tags": []
   },
   "outputs": [
    {
     "data": {
      "text/plain": [
       "'l'"
      ]
     },
     "execution_count": 62,
     "metadata": {},
     "output_type": "execute_result"
    }
   ],
   "source": [
    "\"Hello world!\"[3]"
   ]
  },
  {
   "cell_type": "code",
   "execution_count": 63,
   "id": "aa2d4a04-4ed8-4065-9c6c-534f2a7d2db1",
   "metadata": {
    "tags": []
   },
   "outputs": [
    {
     "data": {
      "text/plain": [
       "16"
      ]
     },
     "execution_count": 63,
     "metadata": {},
     "output_type": "execute_result"
    }
   ],
   "source": [
    "# You can find the length of a string\n",
    "len(\"This is a string\")"
   ]
  },
  {
   "cell_type": "code",
   "execution_count": 64,
   "id": "8ebfa33e-8c71-45fa-add7-39bee19a3cf5",
   "metadata": {
    "tags": []
   },
   "outputs": [
    {
     "data": {
      "text/plain": [
       "9"
      ]
     },
     "execution_count": 64,
     "metadata": {},
     "output_type": "execute_result"
    }
   ],
   "source": [
    "len(\"koreatech\")"
   ]
  },
  {
   "cell_type": "code",
   "execution_count": 65,
   "id": "5b822e02-3f92-4380-9da9-2760534ed3c2",
   "metadata": {
    "tags": []
   },
   "outputs": [
    {
     "data": {
      "text/plain": [
       "'She said her name is Reiko.'"
      ]
     },
     "execution_count": 65,
     "metadata": {},
     "output_type": "execute_result"
    }
   ],
   "source": [
    "# Since Python 3.6, you can use f-strings or formatted string literals.\n",
    "name = \"Reiko\"\n",
    "f\"She said her name is {name}.\""
   ]
  },
  {
   "cell_type": "code",
   "execution_count": 66,
   "id": "34c8165c-ffa7-4f35-85bc-3c614f48358f",
   "metadata": {
    "tags": []
   },
   "outputs": [
    {
     "data": {
      "text/plain": [
       "'hyebhin is 7 characters long.'"
      ]
     },
     "execution_count": 66,
     "metadata": {},
     "output_type": "execute_result"
    }
   ],
   "source": [
    "# Any valid Python expression inside these braces is returned to the string.\n",
    "name=\"hyebhin\"\n",
    "f\"{name} is {len(name)} characters long.\""
   ]
  },
  {
   "cell_type": "code",
   "execution_count": 67,
   "id": "c856468c-6a68-4888-ae05-f38a9c4355de",
   "metadata": {
    "tags": []
   },
   "outputs": [],
   "source": [
    "# None is an object\n",
    "None"
   ]
  },
  {
   "cell_type": "code",
   "execution_count": 68,
   "id": "2bd4e508-31e3-4c43-8195-760f66e0a4f3",
   "metadata": {
    "tags": []
   },
   "outputs": [
    {
     "data": {
      "text/plain": [
       "True"
      ]
     },
     "execution_count": 68,
     "metadata": {},
     "output_type": "execute_result"
    }
   ],
   "source": [
    "# Don't use the equality \"==\" symbol to compare objects to None\n",
    "# Use \"is\" instead. This checks for equality of object identity.\n",
    "None is None"
   ]
  },
  {
   "cell_type": "code",
   "execution_count": 69,
   "id": "51ec9ea2-1248-4229-b3ee-c530d09d674e",
   "metadata": {
    "tags": []
   },
   "outputs": [
    {
     "ename": "SyntaxError",
     "evalue": "cannot assign to None (3901836181.py, line 1)",
     "output_type": "error",
     "traceback": [
      "\u001b[1;36m  Cell \u001b[1;32mIn[69], line 1\u001b[1;36m\u001b[0m\n\u001b[1;33m    None=None\u001b[0m\n\u001b[1;37m    ^\u001b[0m\n\u001b[1;31mSyntaxError\u001b[0m\u001b[1;31m:\u001b[0m cannot assign to None\n"
     ]
    }
   ],
   "source": [
    "None=None"
   ]
  },
  {
   "cell_type": "markdown",
   "id": "eadd0db3-3cde-437e-bf87-d33f354d3c77",
   "metadata": {},
   "source": [
    "2. Variables and Collections\n",
    "----------------------------"
   ]
  },
  {
   "cell_type": "markdown",
   "id": "35a056d3-9f95-4d97-80b7-a6db0454e7ea",
   "metadata": {},
   "source": [
    "* print function"
   ]
  },
  {
   "cell_type": "code",
   "execution_count": 70,
   "id": "f6bd5ad8-014f-4668-8f84-ff81346d0251",
   "metadata": {
    "tags": []
   },
   "outputs": [
    {
     "name": "stdout",
     "output_type": "stream",
     "text": [
      "I am Python. Nice to meet you!\n"
     ]
    }
   ],
   "source": [
    "# Python has a print function\n",
    "print(\"I am Python. Nice to meet you!\")"
   ]
  },
  {
   "cell_type": "code",
   "execution_count": 71,
   "id": "1887d7eb-d43d-4d5d-9815-834144231d90",
   "metadata": {
    "tags": []
   },
   "outputs": [
    {
     "name": "stdout",
     "output_type": "stream",
     "text": [
      "Hello world!"
     ]
    }
   ],
   "source": [
    "# By default the print function also prints out a newline at the end.\n",
    "# Use the optional argument end to change the end string.\n",
    "print(\"Hello world\", end=\"!\")"
   ]
  },
  {
   "cell_type": "code",
   "execution_count": 72,
   "id": "4d2677fd-aa63-46c4-b1f4-ec02dd1c308c",
   "metadata": {
    "tags": []
   },
   "outputs": [
    {
     "name": "stdin",
     "output_type": "stream",
     "text": [
      "Enter some data:  my name\n"
     ]
    }
   ],
   "source": [
    "# Simple way to get input data from console\n",
    "input_string_var=input(\"Enter some data: \")"
   ]
  },
  {
   "cell_type": "code",
   "execution_count": 73,
   "id": "5ff2c4a8-c275-4601-8e16-a902bc1bee4c",
   "metadata": {
    "tags": []
   },
   "outputs": [
    {
     "data": {
      "text/plain": [
       "5"
      ]
     },
     "execution_count": 73,
     "metadata": {},
     "output_type": "execute_result"
    }
   ],
   "source": [
    "# There are no declations. only assignments.\n",
    "# convection is to use lower_case_with_underscores\n",
    "some_var=5\n",
    "some_var"
   ]
  },
  {
   "cell_type": "code",
   "execution_count": 74,
   "id": "a0f06901-c13f-43bd-8474-4cfc5a76985b",
   "metadata": {
    "tags": []
   },
   "outputs": [
    {
     "ename": "NameError",
     "evalue": "name 'some_unknown_var' is not defined",
     "output_type": "error",
     "traceback": [
      "\u001b[1;31m---------------------------------------------------------------------------\u001b[0m",
      "\u001b[1;31mNameError\u001b[0m                                 Traceback (most recent call last)",
      "Cell \u001b[1;32mIn[74], line 3\u001b[0m\n\u001b[0;32m      1\u001b[0m \u001b[38;5;66;03m# Accessing a previously unassigned variable is an exception.\u001b[39;00m\n\u001b[0;32m      2\u001b[0m \u001b[38;5;66;03m# See Control Flow to learn more about exception handling.\u001b[39;00m\n\u001b[1;32m----> 3\u001b[0m \u001b[43msome_unknown_var\u001b[49m\n",
      "\u001b[1;31mNameError\u001b[0m: name 'some_unknown_var' is not defined"
     ]
    }
   ],
   "source": [
    "# Accessing a previously unassigned variable is an exception.\n",
    "# See Control Flow to learn more about exception handling.\n",
    "some_unknown_var"
   ]
  },
  {
   "cell_type": "code",
   "execution_count": 75,
   "id": "83d6be3d-33b7-46c1-988d-3b6c928a972c",
   "metadata": {
    "tags": []
   },
   "outputs": [
    {
     "data": {
      "text/plain": [
       "'nay!'"
      ]
     },
     "execution_count": 75,
     "metadata": {},
     "output_type": "execute_result"
    }
   ],
   "source": [
    "# if can be used as an expression\n",
    "# Equivalent of C's '?:' ternary operator\n",
    "\"yay!\" if 0 > 1 else \"nay!\""
   ]
  },
  {
   "cell_type": "markdown",
   "id": "183ec64f-42ee-42c4-832d-508d05829ce8",
   "metadata": {},
   "source": [
    "* List"
   ]
  },
  {
   "cell_type": "code",
   "execution_count": 77,
   "id": "e49ceb2d-be0a-4815-9b08-c5c46caef6da",
   "metadata": {
    "tags": []
   },
   "outputs": [
    {
     "name": "stdout",
     "output_type": "stream",
     "text": [
      "[1, 2, 4, 3]\n"
     ]
    }
   ],
   "source": [
    "# Lists store sequences\n",
    "li = []\n",
    "# You can start with a prefilled list\n",
    "other_li = [4, 5, 6]\n",
    "\n",
    "# Add stuff to the end of a list with append\n",
    "li.append(1)    # li is now [1]\n",
    "li.append(2)    # li is now [1, 2]\n",
    "li.append(4)    # li is now [1, 2, 4]\n",
    "li.append(3)    # li is now [1, 2, 4, 3]\n",
    "print (li)"
   ]
  },
  {
   "cell_type": "code",
   "execution_count": 87,
   "id": "804fcb9b-ddc4-4921-9f6d-d23eb50dfa21",
   "metadata": {
    "tags": []
   },
   "outputs": [
    {
     "name": "stdout",
     "output_type": "stream",
     "text": [
      "[1, 2, 4]\n"
     ]
    }
   ],
   "source": [
    "#remove from the end with pop\n",
    "li.pop()\n",
    "print (li)"
   ]
  },
  {
   "cell_type": "code",
   "execution_count": 88,
   "id": "f5cb175b-72a3-4928-8f72-537bc11255a4",
   "metadata": {
    "tags": []
   },
   "outputs": [
    {
     "name": "stdout",
     "output_type": "stream",
     "text": [
      "[1, 2, 4, 3]\n"
     ]
    }
   ],
   "source": [
    "#Lets put it back\n",
    "li.append(3)\n",
    "print (li)"
   ]
  },
  {
   "cell_type": "code",
   "execution_count": 89,
   "id": "d7a80cd8-2c43-489d-a7f8-7800fbf6c384",
   "metadata": {
    "tags": []
   },
   "outputs": [
    {
     "data": {
      "text/plain": [
       "4"
      ]
     },
     "execution_count": 89,
     "metadata": {},
     "output_type": "execute_result"
    }
   ],
   "source": [
    "# Access a list like you would any array\n",
    "li[2]"
   ]
  },
  {
   "cell_type": "code",
   "execution_count": 90,
   "id": "13f6727a-a255-49c1-a874-57ef680dc3ac",
   "metadata": {
    "tags": []
   },
   "outputs": [
    {
     "data": {
      "text/plain": [
       "3"
      ]
     },
     "execution_count": 90,
     "metadata": {},
     "output_type": "execute_result"
    }
   ],
   "source": [
    "# Look at the last element\n",
    "li[-1]"
   ]
  },
  {
   "cell_type": "code",
   "execution_count": 91,
   "id": "20ad8b31-e092-4f4c-9d3d-3e907933cdf1",
   "metadata": {
    "tags": []
   },
   "outputs": [
    {
     "ename": "IndexError",
     "evalue": "list index out of range",
     "output_type": "error",
     "traceback": [
      "\u001b[1;31m---------------------------------------------------------------------------\u001b[0m",
      "\u001b[1;31mIndexError\u001b[0m                                Traceback (most recent call last)",
      "Cell \u001b[1;32mIn[91], line 2\u001b[0m\n\u001b[0;32m      1\u001b[0m \u001b[38;5;66;03m# Looking out of bounds is an IndexError\u001b[39;00m\n\u001b[1;32m----> 2\u001b[0m \u001b[43mli\u001b[49m\u001b[43m[\u001b[49m\u001b[38;5;241;43m4\u001b[39;49m\u001b[43m]\u001b[49m\n",
      "\u001b[1;31mIndexError\u001b[0m: list index out of range"
     ]
    }
   ],
   "source": [
    "# Looking out of bounds is an IndexError\n",
    "li[4]"
   ]
  },
  {
   "cell_type": "code",
   "execution_count": 94,
   "id": "7a6db659-395c-4a41-84fb-a6276be30168",
   "metadata": {
    "tags": []
   },
   "outputs": [
    {
     "data": {
      "text/plain": [
       "[2, 4]"
      ]
     },
     "execution_count": 94,
     "metadata": {},
     "output_type": "execute_result"
    }
   ],
   "source": [
    "# You can look at ranges with slice syntax.\n",
    "# The start index is included, the end index is not\n",
    "# (It's a closed/open range for you mathy types.)\n",
    "# list=[1,2,4,3]\n",
    "li[1:3]   # Return list from index 1 to 3"
   ]
  },
  {
   "cell_type": "code",
   "execution_count": 92,
   "id": "80ab5838-221e-4f9f-8cd8-1570bfb1eb26",
   "metadata": {
    "tags": []
   },
   "outputs": [
    {
     "data": {
      "text/plain": [
       "[4, 3]"
      ]
     },
     "execution_count": 92,
     "metadata": {},
     "output_type": "execute_result"
    }
   ],
   "source": [
    "li[2:]    # Return list starting from index 2"
   ]
  },
  {
   "cell_type": "code",
   "execution_count": 95,
   "id": "77364b4a-f36a-45a6-9d68-cc195632271f",
   "metadata": {
    "tags": []
   },
   "outputs": [
    {
     "data": {
      "text/plain": [
       "[1, 2, 4]"
      ]
     },
     "execution_count": 95,
     "metadata": {},
     "output_type": "execute_result"
    }
   ],
   "source": [
    "li[:3] # Return list from beginning until index 3"
   ]
  },
  {
   "cell_type": "code",
   "execution_count": 97,
   "id": "f3b1c2e3-1ab0-42da-b830-a534f51f868b",
   "metadata": {
    "tags": []
   },
   "outputs": [
    {
     "data": {
      "text/plain": [
       "[1, 4]"
      ]
     },
     "execution_count": 97,
     "metadata": {},
     "output_type": "execute_result"
    }
   ],
   "source": [
    "li[::2]   # Return list selecting every second entry (0, 2, 4...)"
   ]
  },
  {
   "cell_type": "code",
   "execution_count": 99,
   "id": "5e6cb805-6294-4d32-b41b-eea25f87fd0f",
   "metadata": {
    "tags": []
   },
   "outputs": [
    {
     "data": {
      "text/plain": [
       "[3, 4, 2, 1]"
      ]
     },
     "execution_count": 99,
     "metadata": {},
     "output_type": "execute_result"
    }
   ],
   "source": [
    "li[::-1] # Return list in reverse order\n",
    "# Use any combination of these to make advanced slices\n",
    "# li[start:end:step]"
   ]
  },
  {
   "cell_type": "code",
   "execution_count": 101,
   "id": "631bd0fb-799d-4581-8f04-ab31c143c711",
   "metadata": {
    "tags": []
   },
   "outputs": [
    {
     "data": {
      "text/plain": [
       "False"
      ]
     },
     "execution_count": 101,
     "metadata": {},
     "output_type": "execute_result"
    }
   ],
   "source": [
    "# Make a one layer deep copy using slices\n",
    "li2 = li[:]  # => li2 = [1, 2, 4, 3] but (li2 is li) will result in false.\n",
    "li2 is li"
   ]
  },
  {
   "cell_type": "code",
   "execution_count": 110,
   "id": "0cc38450-f0a3-4ddf-bdc5-a5f4e32d6c97",
   "metadata": {
    "tags": []
   },
   "outputs": [
    {
     "name": "stdout",
     "output_type": "stream",
     "text": [
      "[1, 2, 3]\n"
     ]
    }
   ],
   "source": [
    "# Remove arbitrary elements from a list with \"del\"\n",
    "li=[1,2,4,3]\n",
    "del li[2]  # li is now [1, 2, 3]\n",
    "print(li)"
   ]
  },
  {
   "cell_type": "code",
   "execution_count": 111,
   "id": "ec5e20ca-a9b9-4fae-aa32-5f4d9dcadf54",
   "metadata": {
    "tags": []
   },
   "outputs": [
    {
     "name": "stdout",
     "output_type": "stream",
     "text": [
      "[1, 3]\n"
     ]
    }
   ],
   "source": [
    "# Remove first occurrence of a value\n",
    "li.remove(2)  # li is now [1, 3]\n",
    "print(li)"
   ]
  },
  {
   "cell_type": "code",
   "execution_count": 112,
   "id": "47b2fa37-4b42-420f-9f35-6fae551ec56e",
   "metadata": {
    "tags": []
   },
   "outputs": [
    {
     "ename": "ValueError",
     "evalue": "list.remove(x): x not in list",
     "output_type": "error",
     "traceback": [
      "\u001b[1;31m---------------------------------------------------------------------------\u001b[0m",
      "\u001b[1;31mValueError\u001b[0m                                Traceback (most recent call last)",
      "Cell \u001b[1;32mIn[112], line 1\u001b[0m\n\u001b[1;32m----> 1\u001b[0m \u001b[43mli\u001b[49m\u001b[38;5;241;43m.\u001b[39;49m\u001b[43mremove\u001b[49m\u001b[43m(\u001b[49m\u001b[38;5;241;43m2\u001b[39;49m\u001b[43m)\u001b[49m  \u001b[38;5;66;03m# Raises a ValueError as 2 is not in the list\u001b[39;00m\n\u001b[0;32m      2\u001b[0m \u001b[38;5;28mprint\u001b[39m (li)\n",
      "\u001b[1;31mValueError\u001b[0m: list.remove(x): x not in list"
     ]
    }
   ],
   "source": [
    "li.remove(2)  # Raises a ValueError as 2 is not in the list\n",
    "print (li)"
   ]
  },
  {
   "cell_type": "code",
   "execution_count": 113,
   "id": "579a290f-1801-47bb-8803-83ee84ea0bdd",
   "metadata": {
    "tags": []
   },
   "outputs": [
    {
     "name": "stdout",
     "output_type": "stream",
     "text": [
      "[1, 2, 3]\n"
     ]
    }
   ],
   "source": [
    "# Insert an element at a specific index\n",
    "li.insert(1, 2)  # li is now [1, 2, 3] again\n",
    "print (li)"
   ]
  },
  {
   "cell_type": "code",
   "execution_count": 117,
   "id": "fd9be9b1-8c56-4e14-8a73-0f0339441445",
   "metadata": {
    "tags": []
   },
   "outputs": [
    {
     "data": {
      "text/plain": [
       "1"
      ]
     },
     "execution_count": 117,
     "metadata": {},
     "output_type": "execute_result"
    }
   ],
   "source": [
    "# Get the index of the first item found matching the argument\n",
    "# 숫자 2가 어느 위치에 있는지 알려주는 역할\n",
    "# 들어있는 숫자 이상으로 입력할 경우 에러\n",
    "li.index(2)"
   ]
  },
  {
   "cell_type": "code",
   "execution_count": 118,
   "id": "53464d5c-44b7-4263-bfb6-9b7cbedebc83",
   "metadata": {
    "tags": []
   },
   "outputs": [
    {
     "data": {
      "text/plain": [
       "[1, 2, 3, 4, 5, 6]"
      ]
     },
     "execution_count": 118,
     "metadata": {},
     "output_type": "execute_result"
    }
   ],
   "source": [
    "# You can add lists\n",
    "# Note: values for li and for other_li are not modified.\n",
    "li + other_li"
   ]
  },
  {
   "cell_type": "code",
   "execution_count": 122,
   "id": "60d7e2fb-a5d4-4cd5-ab19-c339f13cbb8d",
   "metadata": {
    "tags": []
   },
   "outputs": [
    {
     "name": "stdout",
     "output_type": "stream",
     "text": [
      "[1, 2, 3, 4, 5, 6]\n"
     ]
    }
   ],
   "source": [
    "# Concatenate lists with \"extend()\"\n",
    "# li 묶음에 확장해서 other_Li를 이음\n",
    "li=[1,2,3]\n",
    "li.extend(other_li)\n",
    "print(li)"
   ]
  },
  {
   "cell_type": "code",
   "execution_count": 125,
   "id": "61a98c76-b2a0-4bd7-9405-bfb383381cec",
   "metadata": {
    "tags": []
   },
   "outputs": [
    {
     "data": {
      "text/plain": [
       "True"
      ]
     },
     "execution_count": 125,
     "metadata": {},
     "output_type": "execute_result"
    }
   ],
   "source": [
    "# Check for existence in a list with \"in\"\n",
    "1 in li # 묶음에 1이 있는지 확인"
   ]
  },
  {
   "cell_type": "code",
   "execution_count": 126,
   "id": "9d9b234e-a2d4-4bd2-a891-9ed3f5382311",
   "metadata": {
    "tags": []
   },
   "outputs": [
    {
     "data": {
      "text/plain": [
       "6"
      ]
     },
     "execution_count": 126,
     "metadata": {},
     "output_type": "execute_result"
    }
   ],
   "source": [
    "# Examine the length with \"len()\"\n",
    "len(li) # 묶음의 요소가 몇개인지"
   ]
  },
  {
   "cell_type": "markdown",
   "id": "b2e4e160-770d-4440-9607-c04cb02e0c8e",
   "metadata": {},
   "source": [
    "* Tuples"
   ]
  },
  {
   "cell_type": "code",
   "execution_count": 129,
   "id": "883cb336-0076-4a86-a2b0-25cc47959175",
   "metadata": {
    "tags": []
   },
   "outputs": [
    {
     "data": {
      "text/plain": [
       "1"
      ]
     },
     "execution_count": 129,
     "metadata": {},
     "output_type": "execute_result"
    }
   ],
   "source": [
    "# Tuples are like lists but are immutable.\n",
    "# 튜플은 리스트와 거의 비슷하지만 괄호 표기가 다름\n",
    "tup = (1, 2, 3)\n",
    "tup[0]"
   ]
  },
  {
   "cell_type": "code",
   "execution_count": 128,
   "id": "9e64ca36-899c-4d09-a9fb-48c672788cb1",
   "metadata": {
    "tags": []
   },
   "outputs": [
    {
     "ename": "TypeError",
     "evalue": "'tuple' object does not support item assignment",
     "output_type": "error",
     "traceback": [
      "\u001b[1;31m---------------------------------------------------------------------------\u001b[0m",
      "\u001b[1;31mTypeError\u001b[0m                                 Traceback (most recent call last)",
      "Cell \u001b[1;32mIn[128], line 1\u001b[0m\n\u001b[1;32m----> 1\u001b[0m \u001b[43mtup\u001b[49m\u001b[43m[\u001b[49m\u001b[38;5;241;43m0\u001b[39;49m\u001b[43m]\u001b[49m \u001b[38;5;241m=\u001b[39m \u001b[38;5;241m3\u001b[39m\n",
      "\u001b[1;31mTypeError\u001b[0m: 'tuple' object does not support item assignment"
     ]
    }
   ],
   "source": [
    "tup[0] = 3"
   ]
  },
  {
   "cell_type": "code",
   "execution_count": 130,
   "id": "9bff2d14-f21d-4a32-9b87-3c22bf322219",
   "metadata": {
    "tags": []
   },
   "outputs": [
    {
     "data": {
      "text/plain": [
       "int"
      ]
     },
     "execution_count": 130,
     "metadata": {},
     "output_type": "execute_result"
    }
   ],
   "source": [
    "# Note that a tuple of length one has to have a comma after the last element but\n",
    "# tuples of other lengths, even zero, do not.\n",
    "type((1))   # => <class 'int'>"
   ]
  },
  {
   "cell_type": "code",
   "execution_count": 131,
   "id": "f51c7c09-ef85-44ac-aa0d-2982de623ff7",
   "metadata": {
    "tags": []
   },
   "outputs": [
    {
     "data": {
      "text/plain": [
       "tuple"
      ]
     },
     "execution_count": 131,
     "metadata": {},
     "output_type": "execute_result"
    }
   ],
   "source": [
    "type((1,))"
   ]
  },
  {
   "cell_type": "code",
   "execution_count": 132,
   "id": "44e33c69-6f62-49ff-82fb-722dfab1c199",
   "metadata": {
    "tags": []
   },
   "outputs": [
    {
     "data": {
      "text/plain": [
       "tuple"
      ]
     },
     "execution_count": 132,
     "metadata": {},
     "output_type": "execute_result"
    }
   ],
   "source": [
    "type(())"
   ]
  },
  {
   "cell_type": "code",
   "execution_count": 138,
   "id": "99748194-1092-4d64-a0bc-2ff4dcdc76a2",
   "metadata": {
    "tags": []
   },
   "outputs": [
    {
     "data": {
      "text/plain": [
       "3"
      ]
     },
     "execution_count": 138,
     "metadata": {},
     "output_type": "execute_result"
    }
   ],
   "source": [
    "# You can do most of the list operations on tuples too\n",
    "# tuple은 리스트와 거의 비슷하게 적용이 가능하다.\n",
    "len(tup)"
   ]
  },
  {
   "cell_type": "code",
   "execution_count": 134,
   "id": "f263afb7-bfa6-4101-8dd7-5afde5fed2fe",
   "metadata": {
    "tags": []
   },
   "outputs": [
    {
     "data": {
      "text/plain": [
       "(1, 2, 3, 4, 5, 6)"
      ]
     },
     "execution_count": 134,
     "metadata": {},
     "output_type": "execute_result"
    }
   ],
   "source": [
    "tup + (4, 5, 6)"
   ]
  },
  {
   "cell_type": "code",
   "execution_count": 135,
   "id": "7ef2da6d-4649-403b-81ad-94303975b406",
   "metadata": {
    "tags": []
   },
   "outputs": [
    {
     "data": {
      "text/plain": [
       "(1, 2)"
      ]
     },
     "execution_count": 135,
     "metadata": {},
     "output_type": "execute_result"
    }
   ],
   "source": [
    "tup[:2]"
   ]
  },
  {
   "cell_type": "code",
   "execution_count": 136,
   "id": "241b29d1-cc6b-4da0-be68-abdd2ecedd65",
   "metadata": {
    "tags": []
   },
   "outputs": [
    {
     "data": {
      "text/plain": [
       "True"
      ]
     },
     "execution_count": 136,
     "metadata": {},
     "output_type": "execute_result"
    }
   ],
   "source": [
    "2 in tup"
   ]
  },
  {
   "cell_type": "code",
   "execution_count": 139,
   "id": "1cee2edf-3303-4c0c-95ca-159f659614e7",
   "metadata": {
    "tags": []
   },
   "outputs": [],
   "source": [
    "# You can unpack tuples (or lists) into variables\n",
    "a, b, c = (1, 2, 3)  # a is now 1, b is now 2 and c is now 3"
   ]
  },
  {
   "cell_type": "code",
   "execution_count": 141,
   "id": "294eb941-06da-4c82-9460-f5be12477fe6",
   "metadata": {
    "tags": []
   },
   "outputs": [],
   "source": [
    "# You can also do extended unpacking\n",
    "# *b는 리스트로, 두가지 요소가 들어가 있음\n",
    "a, *b, c = (1, 2, 3, 4)  # a is now 1, b is now [2, 3] and c is now 4"
   ]
  },
  {
   "cell_type": "code",
   "execution_count": 142,
   "id": "0a0f46cd-0a45-49e2-9061-d0f7706a055c",
   "metadata": {
    "tags": []
   },
   "outputs": [
    {
     "name": "stdout",
     "output_type": "stream",
     "text": [
      "5\n"
     ]
    }
   ],
   "source": [
    "# Tuples are created by default if you leave out the parentheses\n",
    "d, e, f = 4, 5, 6  \n",
    "# tuple 4, 5, 6 is unpacked into variables d, e and f\n",
    "print (e)"
   ]
  },
  {
   "cell_type": "code",
   "execution_count": 143,
   "id": "60fa3aa5-a7a2-4d79-b93e-201fbc45f3c3",
   "metadata": {
    "tags": []
   },
   "outputs": [
    {
     "name": "stdout",
     "output_type": "stream",
     "text": [
      "4\n"
     ]
    }
   ],
   "source": [
    "# respectively such that d = 4, e = 5 and f = 6\n",
    "# Now look how easy it is to swap two values\n",
    "e, d = d, e  # d is now 5 and e is now 4\n",
    "print (e)"
   ]
  },
  {
   "cell_type": "markdown",
   "id": "09f0792e-d7b4-40f3-80a5-132e5aa3891f",
   "metadata": {},
   "source": [
    "* Dictionary"
   ]
  },
  {
   "cell_type": "code",
   "execution_count": 146,
   "id": "46762896-b4e1-4778-b5a7-6e3e3c708933",
   "metadata": {
    "tags": []
   },
   "outputs": [],
   "source": [
    "# Dictionaries store mappings from keys to values\n",
    "empty_dict = {}\n",
    "# Here is a prefilled dictionary\n",
    "filled_dict = {\"one\": 1, \"two\": 2, \"three\": 3}"
   ]
  },
  {
   "cell_type": "code",
   "execution_count": 149,
   "id": "ad9d8baa-ff18-4f95-9c53-906b0922c482",
   "metadata": {
    "tags": []
   },
   "outputs": [
    {
     "ename": "TypeError",
     "evalue": "unhashable type: 'list'",
     "output_type": "error",
     "traceback": [
      "\u001b[1;31m---------------------------------------------------------------------------\u001b[0m",
      "\u001b[1;31mTypeError\u001b[0m                                 Traceback (most recent call last)",
      "Cell \u001b[1;32mIn[149], line 5\u001b[0m\n\u001b[0;32m      1\u001b[0m \u001b[38;5;66;03m# Note keys for dictionaries have to be immutable types. This is to ensure that\u001b[39;00m\n\u001b[0;32m      2\u001b[0m \u001b[38;5;66;03m# the key can be converted to a constant hash value for quick look-ups.\u001b[39;00m\n\u001b[0;32m      3\u001b[0m \u001b[38;5;66;03m# Immutable types include ints, floats, strings, tuples.\u001b[39;00m\n\u001b[0;32m      4\u001b[0m \u001b[38;5;66;03m# 사전에서 키 값으로 정수, 소수, string, tuples가 들어갈 수 있으나 리스트 안됨\u001b[39;00m\n\u001b[1;32m----> 5\u001b[0m invalid_dict \u001b[38;5;241m=\u001b[39m {[\u001b[38;5;241m1\u001b[39m,\u001b[38;5;241m2\u001b[39m,\u001b[38;5;241m3\u001b[39m]: \u001b[38;5;124m\"\u001b[39m\u001b[38;5;124m123\u001b[39m\u001b[38;5;124m\"\u001b[39m}\n",
      "\u001b[1;31mTypeError\u001b[0m: unhashable type: 'list'"
     ]
    }
   ],
   "source": [
    "# Note keys for dictionaries have to be immutable types. This is to ensure that\n",
    "# the key can be converted to a constant hash value for quick look-ups.\n",
    "# Immutable types include ints, floats, strings, tuples.\n",
    "# 사전에서 키 값으로 정수, 소수, string, tuples가 들어갈 수 있으나 리스트 안됨\n",
    "invalid_dict = {[1,2,3]: \"123\"}"
   ]
  },
  {
   "cell_type": "code",
   "execution_count": 150,
   "id": "8e4b2c5d-2383-45a3-9146-f62c32aa4e07",
   "metadata": {
    "tags": []
   },
   "outputs": [],
   "source": [
    "valid_dict = {(1,2,3):[1,2,3]}   # Values can be of any type, however.\n",
    "# 해쉬값으로 tuples은 사용할 수 있음"
   ]
  },
  {
   "cell_type": "code",
   "execution_count": 151,
   "id": "dc591731-b8cb-47d8-aace-b6ae5f74498f",
   "metadata": {
    "tags": []
   },
   "outputs": [
    {
     "data": {
      "text/plain": [
       "1"
      ]
     },
     "execution_count": 151,
     "metadata": {},
     "output_type": "execute_result"
    }
   ],
   "source": [
    "# Look up values with []\n",
    "filled_dict[\"one\"] "
   ]
  },
  {
   "cell_type": "code",
   "execution_count": 155,
   "id": "e4091139-c922-4f98-98eb-6911dae2a1cc",
   "metadata": {
    "tags": []
   },
   "outputs": [
    {
     "data": {
      "text/plain": [
       "['one', 'two', 'three']"
      ]
     },
     "execution_count": 155,
     "metadata": {},
     "output_type": "execute_result"
    }
   ],
   "source": [
    "# python 버전이 3.7 이상이어야함 (나는 3.11)\n",
    "list(filled_dict.keys()) # => [\"one\", \"two\", \"three\"] in Python 3.7+"
   ]
  },
  {
   "cell_type": "code",
   "execution_count": 156,
   "id": "96b2b9ed-0950-46cc-b187-dbb66cc08657",
   "metadata": {
    "tags": []
   },
   "outputs": [
    {
     "data": {
      "text/plain": [
       "[1, 2, 3]"
      ]
     },
     "execution_count": 156,
     "metadata": {},
     "output_type": "execute_result"
    }
   ],
   "source": [
    "# values()를 사용하여 사전에 있는 값들을 볼 수 있다.\n",
    "# list 함수를 사용하여 꺼낸 값들을 묶을 수 있다.\n",
    "list(filled_dict.values())"
   ]
  },
  {
   "cell_type": "code",
   "execution_count": 159,
   "id": "6a5e9e34-f65a-4200-89c1-96b477cf5786",
   "metadata": {
    "tags": []
   },
   "outputs": [
    {
     "data": {
      "text/plain": [
       "True"
      ]
     },
     "execution_count": 159,
     "metadata": {},
     "output_type": "execute_result"
    }
   ],
   "source": [
    "# Check for existence of keys in a dictionary with \"in\"\n",
    "# in을 사용하면 사전에 있는 키를 확인할 수 있다. 없는 키를 치면 에러뜸\n",
    "\"one\" in filled_dict"
   ]
  },
  {
   "cell_type": "code",
   "execution_count": 158,
   "id": "e22f3327-8ea8-4fc5-a7a8-cb4ff304fa15",
   "metadata": {
    "tags": []
   },
   "outputs": [
    {
     "data": {
      "text/plain": [
       "False"
      ]
     },
     "execution_count": 158,
     "metadata": {},
     "output_type": "execute_result"
    }
   ],
   "source": [
    "1 in filled_dict"
   ]
  },
  {
   "cell_type": "code",
   "execution_count": 162,
   "id": "ff01325a-9035-430d-b460-d5757ed402a4",
   "metadata": {
    "tags": []
   },
   "outputs": [
    {
     "data": {
      "text/plain": [
       "1"
      ]
     },
     "execution_count": 162,
     "metadata": {},
     "output_type": "execute_result"
    }
   ],
   "source": [
    "# Use \"get()\" method to avoid the KeyError\n",
    "# get과 키를 사용하여 정의된 값을 불러올 수 있다.\n",
    "# 없는 키를 입력하면 마찬가지로 에러남\n",
    "filled_dict.get(\"one\")"
   ]
  },
  {
   "cell_type": "code",
   "execution_count": 165,
   "id": "cab6888b-44a8-46b7-80b4-534f8f685866",
   "metadata": {},
   "outputs": [],
   "source": [
    "# 아무 값도 출력되지 않음\n",
    "filled_dict.get(\"four\")"
   ]
  },
  {
   "cell_type": "code",
   "execution_count": 166,
   "id": "d1e340a0-181f-4ba0-8499-c99d3628de93",
   "metadata": {
    "tags": []
   },
   "outputs": [
    {
     "data": {
      "text/plain": [
       "1"
      ]
     },
     "execution_count": 166,
     "metadata": {},
     "output_type": "execute_result"
    }
   ],
   "source": [
    "# The get method supports a default argument when the value is missing\n",
    "filled_dict.get(\"one\", 4)"
   ]
  },
  {
   "cell_type": "code",
   "execution_count": 169,
   "id": "d3ab60e0-27c0-46bc-bdcd-c675a1ca7de7",
   "metadata": {
    "tags": []
   },
   "outputs": [
    {
     "data": {
      "text/plain": [
       "4"
      ]
     },
     "execution_count": 169,
     "metadata": {},
     "output_type": "execute_result"
    }
   ],
   "source": [
    "# 값이 누락된 경우 임의로 설정\n",
    "filled_dict.get(\"four\", 4) "
   ]
  },
  {
   "cell_type": "code",
   "execution_count": 170,
   "id": "8185056d-5a1c-4c61-8080-46f76e8da693",
   "metadata": {
    "tags": []
   },
   "outputs": [
    {
     "data": {
      "text/plain": [
       "5"
      ]
     },
     "execution_count": 170,
     "metadata": {},
     "output_type": "execute_result"
    }
   ],
   "source": [
    "# \"setdefault()\" inserts into a dictionary only if the given key isn't present\n",
    "filled_dict.setdefault(\"five\", 5)"
   ]
  },
  {
   "cell_type": "code",
   "execution_count": 171,
   "id": "73af7d6e-e8dd-43be-8a7f-8855d0e840d8",
   "metadata": {
    "tags": []
   },
   "outputs": [
    {
     "data": {
      "text/plain": [
       "5"
      ]
     },
     "execution_count": 171,
     "metadata": {},
     "output_type": "execute_result"
    }
   ],
   "source": [
    "filled_dict.setdefault(\"five\", 6)"
   ]
  },
  {
   "cell_type": "code",
   "execution_count": 173,
   "id": "030a71cc-8945-4940-8ab9-9579c9794e02",
   "metadata": {
    "tags": []
   },
   "outputs": [
    {
     "data": {
      "text/plain": [
       "['one', 'two', 'three', 'five']"
      ]
     },
     "execution_count": 173,
     "metadata": {},
     "output_type": "execute_result"
    }
   ],
   "source": [
    "# 확인했을 때 five가 들어가 있음을 알 수 있음\n",
    "list(filled_dict.keys())"
   ]
  },
  {
   "cell_type": "code",
   "execution_count": 174,
   "id": "fad122c6-1143-4bfd-b22f-d9cea801b333",
   "metadata": {
    "tags": []
   },
   "outputs": [],
   "source": [
    "# Adding to a dictionary\n",
    "filled_dict.update({\"four\":4})"
   ]
  },
  {
   "cell_type": "code",
   "execution_count": 177,
   "id": "6c71edc5-3c48-4b05-a3dc-193860be12bf",
   "metadata": {
    "tags": []
   },
   "outputs": [],
   "source": [
    "# 사전에 정의를 넣는 또 다른 방법\n",
    "filled_dict[\"four\"]=4"
   ]
  },
  {
   "cell_type": "code",
   "execution_count": 178,
   "id": "e97afffe-a582-43a9-932e-26d4689450e8",
   "metadata": {
    "tags": []
   },
   "outputs": [
    {
     "data": {
      "text/plain": [
       "['one', 'two', 'three', 'five', 'four']"
      ]
     },
     "execution_count": 178,
     "metadata": {},
     "output_type": "execute_result"
    }
   ],
   "source": [
    "# 확인했을 때 five가 들어가 있음을 알 수 있음\n",
    "list(filled_dict.keys())"
   ]
  },
  {
   "cell_type": "code",
   "execution_count": 179,
   "id": "6c2a1940-ad95-4570-89bd-54bed9fb2081",
   "metadata": {
    "tags": []
   },
   "outputs": [
    {
     "data": {
      "text/plain": [
       "['two', 'three', 'five', 'four']"
      ]
     },
     "execution_count": 179,
     "metadata": {},
     "output_type": "execute_result"
    }
   ],
   "source": [
    "# Remove keys from a dictionary with del\n",
    "del filled_dict[\"one\"]\n",
    "list(filled_dict.keys())"
   ]
  },
  {
   "cell_type": "code",
   "execution_count": 180,
   "id": "3d79ac20-c8cf-4036-9c54-0f026e811054",
   "metadata": {
    "tags": []
   },
   "outputs": [
    {
     "data": {
      "text/plain": [
       "{'a': 1, 'b': 2}"
      ]
     },
     "execution_count": 180,
     "metadata": {},
     "output_type": "execute_result"
    }
   ],
   "source": [
    "{'a': 1, **{'b': 2}}"
   ]
  },
  {
   "cell_type": "code",
   "execution_count": 181,
   "id": "8f8c2159-4bac-4551-bcb8-9069cc54b1ab",
   "metadata": {
    "tags": []
   },
   "outputs": [
    {
     "data": {
      "text/plain": [
       "{'a': 2}"
      ]
     },
     "execution_count": 181,
     "metadata": {},
     "output_type": "execute_result"
    }
   ],
   "source": [
    "{'a': 1, **{'a': 2}}"
   ]
  },
  {
   "cell_type": "markdown",
   "id": "04abdcfc-38ae-4ae1-9b1a-3942b6c6393b",
   "metadata": {},
   "source": [
    "* Set 함수"
   ]
  },
  {
   "cell_type": "code",
   "execution_count": 185,
   "id": "16cd1065-9848-4d51-aa1e-7d0fca6a6698",
   "metadata": {
    "tags": []
   },
   "outputs": [],
   "source": [
    "# Sets store ... well sets\n",
    "# set 함수는 파이썬에서 집합\n",
    "empty_set = set()\n",
    "# Initialize a set with a bunch of values.\n",
    "some_set = {1, 1, 2, 2, 3, 4}  # some_set is now {1, 2, 3, 4}"
   ]
  },
  {
   "cell_type": "code",
   "execution_count": 184,
   "id": "9dcbd7d0-cfb2-401a-9f1d-2f998391ddac",
   "metadata": {
    "tags": []
   },
   "outputs": [
    {
     "ename": "TypeError",
     "evalue": "unhashable type: 'list'",
     "output_type": "error",
     "traceback": [
      "\u001b[1;31m---------------------------------------------------------------------------\u001b[0m",
      "\u001b[1;31mTypeError\u001b[0m                                 Traceback (most recent call last)",
      "Cell \u001b[1;32mIn[184], line 2\u001b[0m\n\u001b[0;32m      1\u001b[0m \u001b[38;5;66;03m# Similar to keys of a dictionary, elements of a set have to be immutable.\u001b[39;00m\n\u001b[1;32m----> 2\u001b[0m invalid_set \u001b[38;5;241m=\u001b[39m {[\u001b[38;5;241m1\u001b[39m], \u001b[38;5;241m1\u001b[39m}  \u001b[38;5;66;03m# => Raises a TypeError: unhashable type: 'list'\u001b[39;00m\n\u001b[0;32m      3\u001b[0m valid_set \u001b[38;5;241m=\u001b[39m {(\u001b[38;5;241m1\u001b[39m,), \u001b[38;5;241m1\u001b[39m}  \u001b[38;5;66;03m# list is unhashable, tubles are hashable\u001b[39;00m\n",
      "\u001b[1;31mTypeError\u001b[0m: unhashable type: 'list'"
     ]
    }
   ],
   "source": [
    "# Similar to keys of a dictionary, elements of a set have to be immutable.\n",
    "invalid_set = {[1], 1}  # => Raises a TypeError: unhashable type: 'list'\n",
    "valid_set = {(1,), 1}  # list is unhashable, tubles are hashable"
   ]
  },
  {
   "cell_type": "code",
   "execution_count": 189,
   "id": "d34c4d30-7815-41b3-a1c4-619bb74e6e57",
   "metadata": {
    "tags": []
   },
   "outputs": [
    {
     "data": {
      "text/plain": [
       "{1, 2, 3, 4, 5}"
      ]
     },
     "execution_count": 189,
     "metadata": {},
     "output_type": "execute_result"
    }
   ],
   "source": [
    "# Add one more item to the set\n",
    "filled_set = some_set\n",
    "filled_set.add(5)\n",
    "filled_set"
   ]
  },
  {
   "cell_type": "code",
   "execution_count": 188,
   "id": "515b1e50-f135-4b51-a325-3e825d846286",
   "metadata": {
    "tags": []
   },
   "outputs": [
    {
     "data": {
      "text/plain": [
       "{1, 2, 3, 4, 5}"
      ]
     },
     "execution_count": 188,
     "metadata": {},
     "output_type": "execute_result"
    }
   ],
   "source": [
    "# Sets 함수에서 같은 요소를 중복해서 가질 수 없음\n",
    "filled_set.add(5)\n",
    "filled_set"
   ]
  },
  {
   "cell_type": "code",
   "execution_count": 190,
   "id": "39c8e630-4699-4168-b431-4fcb36799925",
   "metadata": {
    "tags": []
   },
   "outputs": [
    {
     "data": {
      "text/plain": [
       "{3, 4, 5}"
      ]
     },
     "execution_count": 190,
     "metadata": {},
     "output_type": "execute_result"
    }
   ],
   "source": [
    "# &를 사용하여 공통된 요소들을 알 수 있음\n",
    "other_set = {3, 4, 5, 6}\n",
    "filled_set & other_set"
   ]
  },
  {
   "cell_type": "code",
   "execution_count": 191,
   "id": "4d909afc-9bf9-4f7e-b938-3839ba3e4e73",
   "metadata": {
    "tags": []
   },
   "outputs": [
    {
     "data": {
      "text/plain": [
       "{1, 2, 3, 4, 5, 6}"
      ]
     },
     "execution_count": 191,
     "metadata": {},
     "output_type": "execute_result"
    }
   ],
   "source": [
    "# |를 사용하여 두 집합에 존재하는 요소들을 중복 없이 모을 수 있음\n",
    "filled_set | other_set"
   ]
  },
  {
   "cell_type": "code",
   "execution_count": 192,
   "id": "b443a531-0122-43a0-adeb-9ac11e376402",
   "metadata": {
    "tags": []
   },
   "outputs": [
    {
     "data": {
      "text/plain": [
       "{1, 4}"
      ]
     },
     "execution_count": 192,
     "metadata": {},
     "output_type": "execute_result"
    }
   ],
   "source": [
    "# -를 사용하여 집합끼리 뺄 수 있음\n",
    "{1, 2, 3, 4} - {2, 3, 5}"
   ]
  },
  {
   "cell_type": "code",
   "execution_count": 193,
   "id": "aeca2cd4-12f2-4b33-87fb-24c5ead6f9c0",
   "metadata": {
    "tags": []
   },
   "outputs": [
    {
     "data": {
      "text/plain": [
       "{1, 4, 5}"
      ]
     },
     "execution_count": 193,
     "metadata": {},
     "output_type": "execute_result"
    }
   ],
   "source": [
    "# ^를 사용하여 겹치지 않는 요소들을 모을 수 있음\n",
    "{1, 2, 3, 4} ^ {2, 3, 5}"
   ]
  },
  {
   "cell_type": "code",
   "execution_count": 194,
   "id": "309cc449-b1ab-4e78-8fb0-8c01f22692da",
   "metadata": {
    "tags": []
   },
   "outputs": [
    {
     "data": {
      "text/plain": [
       "False"
      ]
     },
     "execution_count": 194,
     "metadata": {},
     "output_type": "execute_result"
    }
   ],
   "source": [
    "# Check if set on the left is a superset of set on the right\n",
    "# 왼쪽이 더 상위 집합인지 확인\n",
    "{1, 2} >= {1, 2, 3}"
   ]
  },
  {
   "cell_type": "code",
   "execution_count": 195,
   "id": "60b3e746-ac3d-4f1d-ab63-6788a2213f54",
   "metadata": {
    "tags": []
   },
   "outputs": [
    {
     "data": {
      "text/plain": [
       "True"
      ]
     },
     "execution_count": 195,
     "metadata": {},
     "output_type": "execute_result"
    }
   ],
   "source": [
    "# Check if set on the left is a subset of set on the right\n",
    "{1, 2} <= {1, 2, 3}"
   ]
  },
  {
   "cell_type": "code",
   "execution_count": 196,
   "id": "f42515c4-9278-4304-b7a6-d15aaa647e30",
   "metadata": {
    "tags": []
   },
   "outputs": [
    {
     "data": {
      "text/plain": [
       "True"
      ]
     },
     "execution_count": 196,
     "metadata": {},
     "output_type": "execute_result"
    }
   ],
   "source": [
    "# Check for existence in a set with in\n",
    "2 in filled_set"
   ]
  },
  {
   "cell_type": "code",
   "execution_count": 198,
   "id": "a1b9d996-0f20-4986-89c3-59198813d475",
   "metadata": {
    "tags": []
   },
   "outputs": [
    {
     "data": {
      "text/plain": [
       "{1, 2, 3, 4, 5}"
      ]
     },
     "execution_count": 198,
     "metadata": {},
     "output_type": "execute_result"
    }
   ],
   "source": [
    "# Make a one layer deep copy\n",
    "filled_set = some_set.copy()\n",
    "some_set"
   ]
  },
  {
   "cell_type": "code",
   "execution_count": 201,
   "id": "e2ff6dfc-cc79-4afd-993e-ae9e61b257b6",
   "metadata": {
    "tags": []
   },
   "outputs": [
    {
     "data": {
      "text/plain": [
       "False"
      ]
     },
     "execution_count": 201,
     "metadata": {},
     "output_type": "execute_result"
    }
   ],
   "source": [
    "# 복사본일뿐 같은게 아님 (역으로 해도 마찬가지)\n",
    "filled_set is some_set"
   ]
  },
  {
   "cell_type": "code",
   "execution_count": 200,
   "id": "e4da9c8c-5b0c-4b53-a47a-1afe27f401da",
   "metadata": {
    "tags": []
   },
   "outputs": [
    {
     "data": {
      "text/plain": [
       "False"
      ]
     },
     "execution_count": 200,
     "metadata": {},
     "output_type": "execute_result"
    }
   ],
   "source": [
    "some_set is filled_set"
   ]
  },
  {
   "cell_type": "markdown",
   "id": "0a816ace-8916-4bc9-b4a0-97d54fa6879a",
   "metadata": {},
   "source": [
    "3. Control Flow and Iterables\n",
    "-----------------------------"
   ]
  },
  {
   "cell_type": "code",
   "execution_count": 202,
   "id": "5307ee16-10b0-4921-9ce5-1985639ad406",
   "metadata": {
    "tags": []
   },
   "outputs": [],
   "source": [
    "# Let's just make a variable\n",
    "some_var = 5"
   ]
  },
  {
   "cell_type": "markdown",
   "id": "4f683db9-fdf6-4c6c-8f2f-946a2eb73142",
   "metadata": {},
   "source": [
    "* if 함수 사용법"
   ]
  },
  {
   "cell_type": "code",
   "execution_count": 221,
   "id": "8ff32c76-43cf-4752-a293-43f8f3c2d026",
   "metadata": {
    "tags": []
   },
   "outputs": [
    {
     "name": "stdout",
     "output_type": "stream",
     "text": [
      "some_var is smaller than 10.\n"
     ]
    }
   ],
   "source": [
    "if some_var>10:\n",
    "    print(\"some_var is totally bigger than 10.\")\n",
    "elif some_var<10:\n",
    "    print(\"some_var is smaller than 10.\")\n",
    "else:\n",
    "    print(\"some_var is indeed 10.\")"
   ]
  },
  {
   "cell_type": "markdown",
   "id": "a80d18fb-6116-4cd6-b1b2-7b14aa8e7823",
   "metadata": {},
   "source": [
    "* Loops 함수 사용법"
   ]
  },
  {
   "cell_type": "code",
   "execution_count": 219,
   "id": "be20c3ea-1eb2-4add-a027-f9e555daf3d4",
   "metadata": {
    "tags": []
   },
   "outputs": [
    {
     "name": "stdout",
     "output_type": "stream",
     "text": [
      "dog is a mammal\n",
      "cat is a mammal\n",
      "mouse is a mammal\n"
     ]
    }
   ],
   "source": [
    "# list 프린트하기\n",
    "for animal in [\"dog\",\"cat\",\"mouse\"]:\n",
    "               print(\"{} is a mammal\". format(animal))\n",
    "# '.' 말고 ',' 쓰면 이상하게 출력됨"
   ]
  },
  {
   "cell_type": "code",
   "execution_count": 216,
   "id": "f0ce3ef7-9c75-40e8-b111-57c372c868ac",
   "metadata": {
    "tags": []
   },
   "outputs": [
    {
     "name": "stdout",
     "output_type": "stream",
     "text": [
      "0\n",
      "1\n",
      "2\n",
      "3\n"
     ]
    }
   ],
   "source": [
    "# range(number) 사용해서 숫자 나열하기\n",
    "# 0부터 적힌 숫자의 전까지 출력됨\n",
    "for i in range(4):\n",
    "    print(i)"
   ]
  },
  {
   "cell_type": "code",
   "execution_count": 217,
   "id": "2df637b3-60e8-4b98-85dd-ff9708265ae2",
   "metadata": {
    "tags": []
   },
   "outputs": [
    {
     "name": "stdout",
     "output_type": "stream",
     "text": [
      "4\n",
      "5\n",
      "6\n",
      "7\n"
     ]
    }
   ],
   "source": [
    "# range(lower, upper) 사용하기\n",
    "# lower숫자부터 출력되어 upper-1까지 출력됨\n",
    "for i in range(4,8):\n",
    "    print(i)\n"
   ]
  },
  {
   "cell_type": "code",
   "execution_count": 218,
   "id": "63cf5417-6f53-4fe6-871d-811cead8dea6",
   "metadata": {
    "tags": []
   },
   "outputs": [
    {
     "name": "stdout",
     "output_type": "stream",
     "text": [
      "4\n",
      "6\n"
     ]
    }
   ],
   "source": [
    "# range(lower, upper, step) 사용하기\n",
    "# 마찬가지로 숫자의 열이 출력, step 만큼 띄어서 숫자 출력됨\n",
    "for i in range(4,8,2):\n",
    "    print(i)"
   ]
  },
  {
   "cell_type": "code",
   "execution_count": 220,
   "id": "42ae17d0-a245-45ea-b9fd-f13ba9c341b0",
   "metadata": {
    "tags": []
   },
   "outputs": [
    {
     "name": "stdout",
     "output_type": "stream",
     "text": [
      "0 dog\n",
      "1 cat\n",
      "2 mouse\n"
     ]
    }
   ],
   "source": [
    "# enumerate 함수 사용하기\n",
    "# in 뒷부분에 넣어주면 사용 가능\n",
    "# 인덱스와 요소로 이루어진 튜플을 만들어주며, 출력 시 인덱스와 요소를 따로 지정\n",
    "animals=[\"dog\",\"cat\",\"mouse\"]\n",
    "for i, value in enumerate(animals):\n",
    "    print(i, value)"
   ]
  },
  {
   "cell_type": "markdown",
   "id": "8f48c9ad-7b0a-452a-8240-4f2631f104a3",
   "metadata": {},
   "source": [
    "* while 함수 사용법"
   ]
  },
  {
   "cell_type": "code",
   "execution_count": 222,
   "id": "40d3d781-5360-490e-b444-12295036d296",
   "metadata": {
    "tags": []
   },
   "outputs": [
    {
     "name": "stdout",
     "output_type": "stream",
     "text": [
      "0\n",
      "1\n",
      "2\n",
      "3\n"
     ]
    }
   ],
   "source": [
    "# 조건에 성립할 때 까지 숫자 출력\n",
    "x=0\n",
    "while x<4:\n",
    "    print(x)\n",
    "    x+=1 # x=x+1을 줄인 것"
   ]
  },
  {
   "cell_type": "markdown",
   "id": "7cada4e1-8246-4e54-909a-c44acd63f795",
   "metadata": {},
   "source": [
    "* try/expept 블록 사용하기"
   ]
  },
  {
   "cell_type": "code",
   "execution_count": 228,
   "id": "34b3156a-52ba-4143-beba-fb4ff48c4a07",
   "metadata": {
    "tags": []
   },
   "outputs": [
    {
     "name": "stdout",
     "output_type": "stream",
     "text": [
      "We can clean up resources here\n"
     ]
    }
   ],
   "source": [
    "try:\n",
    "    # error를 띄우기 위해 raise를 사용하면 됨\n",
    "    raise IndexError(\"This is an index error\")\n",
    "except IndexError as e:\n",
    "    pass\n",
    "except (TypeError, NameError):\n",
    "    pass # 여러개의 exception을 넣을 수 있다.\n",
    "else:\n",
    "    print(\"All good!\")\n",
    "finally:\n",
    "    print(\"We can clean up resources here\")\n",
    "# try 블록 수행 중 오류가 발생하면 except 블록이 수행됨\n",
    "# try 블록 수행 중 오류가 없으면 except블록은 수행되지 않음\n",
    "# finally는 모든 경우에서 실행됨"
   ]
  },
  {
   "cell_type": "markdown",
   "id": "b8604684-c0ad-4dd2-af19-f4da667f0bc0",
   "metadata": {},
   "source": [
    "* 파일에 내용 쓰고 읽기"
   ]
  },
  {
   "cell_type": "code",
   "execution_count": 244,
   "id": "f6f4569f-f8b9-4f3b-85b3-7788d38f9ec3",
   "metadata": {
    "tags": []
   },
   "outputs": [],
   "source": [
    "# Writing to a file\n",
    "contents = {\"aa\": 12, \"bb\": 21}\n",
    "with open(\"myfile1.txt\", \"w+\") as file:\n",
    "    file.write(str(contents))  "
   ]
  },
  {
   "cell_type": "code",
   "execution_count": 245,
   "id": "66fffb81-c89d-412d-a71a-83926503dacc",
   "metadata": {
    "tags": []
   },
   "outputs": [],
   "source": [
    "import json\n",
    "with open(\"myfile2.txt\", \"w+\") as file:\n",
    "    file.write(json.dumps(contents))"
   ]
  },
  {
   "cell_type": "code",
   "execution_count": 246,
   "id": "e349f9b4-5bf2-4da3-9e3d-9a95a72eb219",
   "metadata": {
    "tags": []
   },
   "outputs": [
    {
     "name": "stdout",
     "output_type": "stream",
     "text": [
      "{'aa': 12, 'bb': 21}\n"
     ]
    }
   ],
   "source": [
    "# Reading from a file\n",
    "with open('myfile1.txt', \"r+\") as file:\n",
    "    contents = file.read()           # reads a string from a file\n",
    "print(contents)"
   ]
  },
  {
   "cell_type": "code",
   "execution_count": 247,
   "id": "ae096781-5523-45ba-af11-c53a5bbae300",
   "metadata": {
    "tags": []
   },
   "outputs": [
    {
     "name": "stdout",
     "output_type": "stream",
     "text": [
      "{'aa': 12, 'bb': 21}\n"
     ]
    }
   ],
   "source": [
    "with open('myfile2.txt', \"r+\") as file:\n",
    "    contents = json.load(file)       # reads a json object from a file\n",
    "print(contents)"
   ]
  },
  {
   "cell_type": "markdown",
   "id": "b50894d2-9ba4-4d0f-b3f7-fa3150f5b2e6",
   "metadata": {},
   "source": [
    "* Iterable 사용하기"
   ]
  },
  {
   "cell_type": "code",
   "execution_count": 262,
   "id": "77d1a2fa-025d-4220-9dae-aa96d2f7e620",
   "metadata": {
    "tags": []
   },
   "outputs": [
    {
     "name": "stdout",
     "output_type": "stream",
     "text": [
      "dict_keys(['one', 'two', 'three'])\n"
     ]
    }
   ],
   "source": [
    "filled_dict = {\"one\": 1, \"two\": 2, \"three\": 3}\n",
    "our_iterable = filled_dict.keys() # 사전에 정의된 키를 반복적으로 꺼냄\n",
    "print(our_iterable)"
   ]
  },
  {
   "cell_type": "code",
   "execution_count": 263,
   "id": "c94da7f1-c529-4d21-885e-967ac5f0d10e",
   "metadata": {
    "tags": []
   },
   "outputs": [
    {
     "name": "stdout",
     "output_type": "stream",
     "text": [
      "one\n",
      "two\n",
      "three\n"
     ]
    }
   ],
   "source": [
    "# We can loop over it.\n",
    "for i in our_iterable:\n",
    "    print(i)"
   ]
  },
  {
   "cell_type": "code",
   "execution_count": 264,
   "id": "7e56613a-02ad-48e8-9be6-d1f9b4503ea2",
   "metadata": {
    "tags": []
   },
   "outputs": [
    {
     "ename": "TypeError",
     "evalue": "'dict_keys' object is not subscriptable",
     "output_type": "error",
     "traceback": [
      "\u001b[1;31m---------------------------------------------------------------------------\u001b[0m",
      "\u001b[1;31mTypeError\u001b[0m                                 Traceback (most recent call last)",
      "Cell \u001b[1;32mIn[264], line 2\u001b[0m\n\u001b[0;32m      1\u001b[0m \u001b[38;5;66;03m# However we cannot address elements by index.\u001b[39;00m\n\u001b[1;32m----> 2\u001b[0m \u001b[43mour_iterable\u001b[49m\u001b[43m[\u001b[49m\u001b[38;5;241;43m1\u001b[39;49m\u001b[43m]\u001b[49m\n",
      "\u001b[1;31mTypeError\u001b[0m: 'dict_keys' object is not subscriptable"
     ]
    }
   ],
   "source": [
    "# However we cannot address elements by index.\n",
    "our_iterable[1]"
   ]
  },
  {
   "cell_type": "code",
   "execution_count": 265,
   "id": "d1c60f9d-6015-4dad-b694-8cb7ffe1ab41",
   "metadata": {
    "tags": []
   },
   "outputs": [],
   "source": [
    "# An iterable is an object that knows how to create an iterator.\n",
    "our_iterator = iter(our_iterable)"
   ]
  },
  {
   "cell_type": "code",
   "execution_count": 266,
   "id": "893073e8-e896-49f9-8eaa-4af351b15380",
   "metadata": {
    "tags": []
   },
   "outputs": [
    {
     "data": {
      "text/plain": [
       "'one'"
      ]
     },
     "execution_count": 266,
     "metadata": {},
     "output_type": "execute_result"
    }
   ],
   "source": [
    "# Our iterator is an object that can remember the state as we traverse through\n",
    "# it. We get the next object with \"next()\".\n",
    "next(our_iterator)"
   ]
  },
  {
   "cell_type": "code",
   "execution_count": 267,
   "id": "4048c437-042b-4ee2-9bf6-834634b4c78a",
   "metadata": {
    "tags": []
   },
   "outputs": [
    {
     "data": {
      "text/plain": [
       "'two'"
      ]
     },
     "execution_count": 267,
     "metadata": {},
     "output_type": "execute_result"
    }
   ],
   "source": [
    "next(our_iterator)"
   ]
  },
  {
   "cell_type": "code",
   "execution_count": 268,
   "id": "0c8dd97f-3c47-493d-a4f8-7a40771a130a",
   "metadata": {
    "tags": []
   },
   "outputs": [
    {
     "data": {
      "text/plain": [
       "'three'"
      ]
     },
     "execution_count": 268,
     "metadata": {},
     "output_type": "execute_result"
    }
   ],
   "source": [
    "next(our_iterator)\n",
    "#next라는 내장함수를 사용할 때마다 순서대로 값이 출력됨"
   ]
  },
  {
   "cell_type": "code",
   "execution_count": 269,
   "id": "452670f0-21d3-451d-980e-72d7bbae99e0",
   "metadata": {
    "tags": []
   },
   "outputs": [
    {
     "ename": "StopIteration",
     "evalue": "",
     "output_type": "error",
     "traceback": [
      "\u001b[1;31m---------------------------------------------------------------------------\u001b[0m",
      "\u001b[1;31mStopIteration\u001b[0m                             Traceback (most recent call last)",
      "Cell \u001b[1;32mIn[269], line 3\u001b[0m\n\u001b[0;32m      1\u001b[0m \u001b[38;5;66;03m# After the iterator has returned all of its data, it raises a\u001b[39;00m\n\u001b[0;32m      2\u001b[0m \u001b[38;5;66;03m# StopIteration exception\u001b[39;00m\n\u001b[1;32m----> 3\u001b[0m \u001b[38;5;28;43mnext\u001b[39;49m\u001b[43m(\u001b[49m\u001b[43mour_iterator\u001b[49m\u001b[43m)\u001b[49m\n",
      "\u001b[1;31mStopIteration\u001b[0m: "
     ]
    }
   ],
   "source": [
    "# After the iterator has returned all of its data, it raises a\n",
    "# StopIteration exception\n",
    "next(our_iterator)"
   ]
  },
  {
   "cell_type": "code",
   "execution_count": 270,
   "id": "ed483b12-af3a-44f3-b69d-dba665b0eb1e",
   "metadata": {
    "tags": []
   },
   "outputs": [
    {
     "name": "stdout",
     "output_type": "stream",
     "text": [
      "one\n",
      "two\n",
      "three\n"
     ]
    }
   ],
   "source": [
    "# We can also loop over it, in fact, \"for\" does this implicitly!\n",
    "our_iterator = iter(our_iterable)\n",
    "for i in our_iterator:\n",
    "    print(i)"
   ]
  },
  {
   "cell_type": "code",
   "execution_count": 273,
   "id": "17233831-153f-48db-9a10-7762f2011cad",
   "metadata": {
    "tags": []
   },
   "outputs": [
    {
     "data": {
      "text/plain": [
       "['one', 'two', 'three']"
      ]
     },
     "execution_count": 273,
     "metadata": {},
     "output_type": "execute_result"
    }
   ],
   "source": [
    "# You can grab all the elements of an iterable or iterator by call of list().\n",
    "list(our_iterable)"
   ]
  },
  {
   "cell_type": "code",
   "execution_count": 275,
   "id": "34e9f89c-bf70-46d6-9e55-be61a1445de1",
   "metadata": {
    "tags": []
   },
   "outputs": [
    {
     "data": {
      "text/plain": [
       "[]"
      ]
     },
     "execution_count": 275,
     "metadata": {},
     "output_type": "execute_result"
    }
   ],
   "source": [
    "list(our_iterator)\n",
    "# 값이 빈 상태에서 저장됐기 때문에 아무것도 없음"
   ]
  },
  {
   "cell_type": "markdown",
   "id": "2ec5e876-22bc-4fa4-acc9-e0e71fa66d7a",
   "metadata": {},
   "source": [
    "4. Functions\n",
    "--------------"
   ]
  },
  {
   "cell_type": "markdown",
   "id": "37fb1c44-f293-4b94-9da6-51971f9cbeff",
   "metadata": {},
   "source": [
    "* 새로운 함수 만들기"
   ]
  },
  {
   "cell_type": "code",
   "execution_count": 277,
   "id": "c1f4b8d4-4196-47f5-bd3d-3ed3d7d86f5d",
   "metadata": {
    "tags": []
   },
   "outputs": [],
   "source": [
    "# use \"def\"\n",
    "def add(x,y):\n",
    "    print(\"x is {} and y is {}\".format(x,y))\n",
    "    return x+y"
   ]
  },
  {
   "cell_type": "code",
   "execution_count": 279,
   "id": "57c202db-d014-4900-9fb6-0e06769f65a9",
   "metadata": {
    "tags": []
   },
   "outputs": [
    {
     "name": "stdout",
     "output_type": "stream",
     "text": [
      "x is 5 and y is 6\n"
     ]
    },
    {
     "data": {
      "text/plain": [
       "11"
      ]
     },
     "execution_count": 279,
     "metadata": {},
     "output_type": "execute_result"
    }
   ],
   "source": [
    "add(5,6)\n",
    "#위에서 함수가 정의되었기 때문에 이를 사용할 수 있음"
   ]
  },
  {
   "cell_type": "code",
   "execution_count": 280,
   "id": "9066cb52-5d2e-401d-843d-e54f52c576ec",
   "metadata": {
    "tags": []
   },
   "outputs": [],
   "source": [
    "def varargs(*args):\n",
    "    return args"
   ]
  },
  {
   "cell_type": "code",
   "execution_count": 285,
   "id": "fc1a7556-e2d6-4739-a5ec-b3b6656c289a",
   "metadata": {
    "tags": []
   },
   "outputs": [
    {
     "data": {
      "text/plain": [
       "(1, 2, 3)"
      ]
     },
     "execution_count": 285,
     "metadata": {},
     "output_type": "execute_result"
    }
   ],
   "source": [
    "# 튜플 형태로 데이터를 받음\n",
    "varargs(1,2,3)"
   ]
  },
  {
   "cell_type": "code",
   "execution_count": 283,
   "id": "cf5dac76-6ae8-4825-b17e-9658f3f1d520",
   "metadata": {
    "tags": []
   },
   "outputs": [],
   "source": [
    "def keyword_args(**kwargs):\n",
    "    return kwargs"
   ]
  },
  {
   "cell_type": "code",
   "execution_count": 286,
   "id": "2921cd1b-0d45-4d1f-be11-64e6cbc6d2f6",
   "metadata": {
    "tags": []
   },
   "outputs": [
    {
     "data": {
      "text/plain": [
       "{'big': 'foot', 'loch': 'ness'}"
      ]
     },
     "execution_count": 286,
     "metadata": {},
     "output_type": "execute_result"
    }
   ],
   "source": [
    "# dictionary 형태로 데이터 받음\n",
    "keyword_args(big=\"foot\", loch=\"ness\")"
   ]
  },
  {
   "cell_type": "code",
   "execution_count": 287,
   "id": "a4165974-b2ac-4968-92df-e54c83b7876e",
   "metadata": {
    "tags": []
   },
   "outputs": [],
   "source": [
    "def all_the_args(*args, **kwargs):\n",
    "    print(args)\n",
    "    print(kwargs)"
   ]
  },
  {
   "cell_type": "code",
   "execution_count": 289,
   "id": "9c5112f4-5fec-45c1-a4ea-98298cd82c70",
   "metadata": {
    "tags": []
   },
   "outputs": [
    {
     "name": "stdout",
     "output_type": "stream",
     "text": [
      "(1, 2)\n",
      "{'a': 3, 'b': 4}\n"
     ]
    }
   ],
   "source": [
    "all_the_args(1,2,a=3,b=4)\n",
    "#단순 숫자는 튜플, 복잡한 형태는 사전으로 따로 받는듯)"
   ]
  },
  {
   "cell_type": "code",
   "execution_count": 295,
   "id": "8a43f01e-7218-4093-84d1-5fa611ad7bc2",
   "metadata": {
    "tags": []
   },
   "outputs": [],
   "source": [
    "# 함수를 불러올 때 args와 kwargs를 반대로 적용도 가능!\n",
    "args=(1,2,3,4)\n",
    "kwargs={\"a\":3, \"b\":4}"
   ]
  },
  {
   "cell_type": "code",
   "execution_count": 293,
   "id": "07c58305-7d17-4334-a347-d2ef8986ad4d",
   "metadata": {
    "tags": []
   },
   "outputs": [
    {
     "name": "stdout",
     "output_type": "stream",
     "text": [
      "(1, 2, 3, 4)\n",
      "{}\n"
     ]
    }
   ],
   "source": [
    "all_the_args(*args)"
   ]
  },
  {
   "cell_type": "code",
   "execution_count": 294,
   "id": "94470ab4-825c-4019-9361-8bde76810964",
   "metadata": {
    "tags": []
   },
   "outputs": [
    {
     "name": "stdout",
     "output_type": "stream",
     "text": [
      "()\n",
      "{'a': 3, 'b': 4}\n"
     ]
    }
   ],
   "source": [
    "all_the_args(**kwargs)"
   ]
  },
  {
   "cell_type": "code",
   "execution_count": 296,
   "id": "dbb9c600-d46e-4482-b25b-6cccbd2ef668",
   "metadata": {
    "tags": []
   },
   "outputs": [
    {
     "name": "stdout",
     "output_type": "stream",
     "text": [
      "(1, 2, 3, 4)\n",
      "{'a': 3, 'b': 4}\n"
     ]
    }
   ],
   "source": [
    "all_the_args(*args, **kwargs)"
   ]
  },
  {
   "cell_type": "code",
   "execution_count": 297,
   "id": "b4a33215-8ea3-47c7-8c69-140872c6a7d5",
   "metadata": {
    "tags": []
   },
   "outputs": [],
   "source": [
    "def swap(x,y):\n",
    "    return y,x"
   ]
  },
  {
   "cell_type": "code",
   "execution_count": 300,
   "id": "ecc893e4-4280-4608-a6b0-294d78c83c3c",
   "metadata": {
    "tags": []
   },
   "outputs": [
    {
     "name": "stdout",
     "output_type": "stream",
     "text": [
      "2 1\n"
     ]
    }
   ],
   "source": [
    "x=1\n",
    "y=2\n",
    "x,y=swap(x,y)\n",
    "print (x,y)"
   ]
  },
  {
   "cell_type": "code",
   "execution_count": 304,
   "id": "c0a8db78-82a3-4948-a21c-57e61b68c7cd",
   "metadata": {
    "tags": []
   },
   "outputs": [],
   "source": [
    "x=5\n",
    "def set_x(num):\n",
    "    x=num\n",
    "    print(x)\n",
    "\n",
    "def set_global_x(num):\n",
    "    global x\n",
    "    print(x)\n",
    "    x=num\n",
    "    print(x)\n",
    "# global은 전역변수로 설정하고 싶을 때 사용한다. (함수 외에도 해당 변수를 사용하고 싶을 때)"
   ]
  },
  {
   "cell_type": "code",
   "execution_count": 303,
   "id": "f752c8e4-e41f-41f2-9c5d-2e1ba0ee73c1",
   "metadata": {
    "tags": []
   },
   "outputs": [
    {
     "name": "stdout",
     "output_type": "stream",
     "text": [
      "43\n",
      "5\n",
      "6\n"
     ]
    }
   ],
   "source": [
    "set_x(43)\n",
    "set_global_x(6)"
   ]
  },
  {
   "cell_type": "markdown",
   "id": "9e6a67df-1600-4abf-8664-881f0ba84f2b",
   "metadata": {},
   "source": [
    "* 함수 속의 함수"
   ]
  },
  {
   "cell_type": "code",
   "execution_count": 305,
   "id": "77e999f3-0513-4382-a012-ce6a7cea28cf",
   "metadata": {
    "tags": []
   },
   "outputs": [],
   "source": [
    "def create_adder(x):\n",
    "    def adder(y):\n",
    "        return x+y\n",
    "    return adder"
   ]
  },
  {
   "cell_type": "code",
   "execution_count": 307,
   "id": "95c52539-21b4-4c61-91c9-36e6aaf168d7",
   "metadata": {
    "tags": []
   },
   "outputs": [
    {
     "data": {
      "text/plain": [
       "13"
      ]
     },
     "execution_count": 307,
     "metadata": {},
     "output_type": "execute_result"
    }
   ],
   "source": [
    "add_10=create_adder(10) #x==10\n",
    "add_10(3) #y==3"
   ]
  },
  {
   "cell_type": "markdown",
   "id": "95925b11-35a2-4112-aff2-ed7b2854b5b1",
   "metadata": {
    "tags": []
   },
   "source": [
    "* Anonymous functions"
   ]
  },
  {
   "cell_type": "code",
   "execution_count": 308,
   "id": "b939c7a9-44c4-4522-b954-1192c57cf906",
   "metadata": {
    "tags": []
   },
   "outputs": [
    {
     "data": {
      "text/plain": [
       "True"
      ]
     },
     "execution_count": 308,
     "metadata": {},
     "output_type": "execute_result"
    }
   ],
   "source": [
    "(lambda x:x>2)(3)"
   ]
  },
  {
   "cell_type": "code",
   "execution_count": 310,
   "id": "e59a026e-33d4-4585-89aa-e36429611daf",
   "metadata": {
    "tags": []
   },
   "outputs": [
    {
     "data": {
      "text/plain": [
       "5"
      ]
     },
     "execution_count": 310,
     "metadata": {},
     "output_type": "execute_result"
    }
   ],
   "source": [
    "(lambda x,y:x**2+y**2)(2,1)"
   ]
  },
  {
   "cell_type": "markdown",
   "id": "06f1aaba-3b6b-4f15-9636-545fe22ed334",
   "metadata": {},
   "source": [
    "* higher order functions"
   ]
  },
  {
   "cell_type": "code",
   "execution_count": 311,
   "id": "0a4c0768-ad35-487f-8858-c0182feb39e5",
   "metadata": {
    "tags": []
   },
   "outputs": [
    {
     "data": {
      "text/plain": [
       "[11, 12, 13]"
      ]
     },
     "execution_count": 311,
     "metadata": {},
     "output_type": "execute_result"
    }
   ],
   "source": [
    "list(map(add_10, [1,2,3]))"
   ]
  },
  {
   "cell_type": "code",
   "execution_count": 312,
   "id": "be4ea002-01a0-4c06-bf6d-ccdee6bff330",
   "metadata": {
    "tags": []
   },
   "outputs": [
    {
     "data": {
      "text/plain": [
       "[4, 2, 3]"
      ]
     },
     "execution_count": 312,
     "metadata": {},
     "output_type": "execute_result"
    }
   ],
   "source": [
    "list(map(max, [1,2,3], [4,2,1]))"
   ]
  },
  {
   "cell_type": "code",
   "execution_count": 314,
   "id": "a2d3edbf-dd2b-4ed4-bc90-b0b184ac9445",
   "metadata": {
    "tags": []
   },
   "outputs": [
    {
     "data": {
      "text/plain": [
       "[6, 7]"
      ]
     },
     "execution_count": 314,
     "metadata": {},
     "output_type": "execute_result"
    }
   ],
   "source": [
    "list(filter(lambda x:x>5,[3,4,5,6,7]))"
   ]
  },
  {
   "cell_type": "code",
   "execution_count": 317,
   "id": "62dc09f6-aa83-4047-9f9a-d8234668f9de",
   "metadata": {
    "tags": []
   },
   "outputs": [
    {
     "data": {
      "text/plain": [
       "[11, 12, 13]"
      ]
     },
     "execution_count": 317,
     "metadata": {},
     "output_type": "execute_result"
    }
   ],
   "source": [
    "# list로 함수를 사용할 수 있음\n",
    "[add_10(i) for i in [1,2,3]]"
   ]
  },
  {
   "cell_type": "code",
   "execution_count": 316,
   "id": "adbb6ebf-603c-4e65-9db4-7676f69aa588",
   "metadata": {
    "tags": []
   },
   "outputs": [
    {
     "data": {
      "text/plain": [
       "[6, 7]"
      ]
     },
     "execution_count": 316,
     "metadata": {},
     "output_type": "execute_result"
    }
   ],
   "source": [
    "[x for x in [3,4,5,6,7] if x>5]"
   ]
  },
  {
   "cell_type": "code",
   "execution_count": 319,
   "id": "d558b450-2c56-4da7-a7ba-561df3f64b43",
   "metadata": {
    "tags": []
   },
   "outputs": [
    {
     "data": {
      "text/plain": [
       "{'d', 'e', 'f'}"
      ]
     },
     "execution_count": 319,
     "metadata": {},
     "output_type": "execute_result"
    }
   ],
   "source": [
    "# 사전 형태로도 사용 가능\n",
    "{x for x in 'abcddeef' if x not in 'abc'}"
   ]
  },
  {
   "cell_type": "code",
   "execution_count": 321,
   "id": "68e5bf24-116e-4a1e-978b-eb284cdeab27",
   "metadata": {
    "tags": []
   },
   "outputs": [
    {
     "data": {
      "text/plain": [
       "{0: 0, 1: 1, 2: 4, 3: 9, 4: 16}"
      ]
     },
     "execution_count": 321,
     "metadata": {},
     "output_type": "execute_result"
    }
   ],
   "source": [
    "# * 두개는 제곱\n",
    "{x:x**2 for x in range(5)}"
   ]
  },
  {
   "cell_type": "markdown",
   "id": "ba220474-9c14-42e6-ab84-7c16a37799f4",
   "metadata": {},
   "source": [
    "5. Modules\n",
    "----------"
   ]
  },
  {
   "cell_type": "code",
   "execution_count": 322,
   "id": "c45d9cf9-a50f-45b3-9049-618bfc80a447",
   "metadata": {
    "tags": []
   },
   "outputs": [
    {
     "name": "stdout",
     "output_type": "stream",
     "text": [
      "4.0\n"
     ]
    }
   ],
   "source": [
    "# import modules\n",
    "import math\n",
    "print(math.sqrt(16))"
   ]
  },
  {
   "cell_type": "code",
   "execution_count": 324,
   "id": "0a787103-5e41-4b2d-a641-5bee7721c464",
   "metadata": {
    "tags": []
   },
   "outputs": [
    {
     "name": "stdout",
     "output_type": "stream",
     "text": [
      "4\n"
     ]
    }
   ],
   "source": [
    "# Sepcific functions from a module\n",
    "from math import ceil, floor\n",
    "print(ceil(3.7))"
   ]
  },
  {
   "cell_type": "code",
   "execution_count": 325,
   "id": "c9db40a7-0203-48c2-855c-d46f6e68e82d",
   "metadata": {
    "tags": []
   },
   "outputs": [
    {
     "name": "stdout",
     "output_type": "stream",
     "text": [
      "3\n"
     ]
    }
   ],
   "source": [
    "print(floor(3.7))"
   ]
  },
  {
   "cell_type": "code",
   "execution_count": 326,
   "id": "3f782e34-1665-4cc3-9107-8f048bb06dad",
   "metadata": {
    "tags": []
   },
   "outputs": [
    {
     "data": {
      "text/plain": [
       "True"
      ]
     },
     "execution_count": 326,
     "metadata": {},
     "output_type": "execute_result"
    }
   ],
   "source": [
    "import math as m\n",
    "math.sqrt(16)==m.sqrt(16)"
   ]
  },
  {
   "cell_type": "markdown",
   "id": "967f3dbf-7244-4984-864f-183e5e98130f",
   "metadata": {},
   "source": [
    "6. Classes\n",
    "-------"
   ]
  },
  {
   "cell_type": "markdown",
   "id": "4c8158eb-c29e-4106-b062-c8672fc58dcd",
   "metadata": {},
   "source": [
    "* Class Human"
   ]
  },
  {
   "cell_type": "code",
   "execution_count": 345,
   "id": "7290e9f1-3469-48a2-bed6-be1f71257f08",
   "metadata": {
    "tags": []
   },
   "outputs": [
    {
     "name": "stdout",
     "output_type": "stream",
     "text": [
      "lan: hi\n",
      "joel: hello\n",
      "lan: H.sapiens\n",
      "lan: H. neanderthalensis\n",
      "joel: H. neanderthalensis\n",
      "*grunt*\n",
      "lan: 42\n",
      "joel: <bound method Human.age of <__main__.Human object at 0x0000018504556150>>\n"
     ]
    }
   ],
   "source": [
    "# class 사용법\n",
    "class Human:\n",
    "    species=\"H.sapiens\"\n",
    "    def __init__(self, name):\n",
    "        self.name=name\n",
    "        self._age=0\n",
    "    def say(self, msg):\n",
    "        print(\"{name}: {message}\".format(name=self.name, message=msg))\n",
    "    def sing(self):\n",
    "        return 'yo...yo...microphone check...one..two..one...two'\n",
    "    def get_species(cls):\n",
    "        return cls.species\n",
    "    def grunt():\n",
    "        return \"*grunt*\"\n",
    "    def age(self):\n",
    "        return self._age\n",
    "    def age(self, age):\n",
    "        self._age=age\n",
    "        def age(self):\n",
    "            del self._age\n",
    "if __name__=='__main__':\n",
    "    i=Human(name=\"lan\")\n",
    "    i.say(\"hi\")\n",
    "    j=Human(\"joel\")\n",
    "    j.say(\"hello\")\n",
    "    i.say(i.get_species())\n",
    "    Human.species = \"H. neanderthalensis\"\n",
    "    i.say(i.get_species())\n",
    "    j.say(j.get_species())\n",
    "    print(Human.grunt())\n",
    "    i.age=42\n",
    "    i.say(i.age)\n",
    "    j.say(j.age)"
   ]
  },
  {
   "cell_type": "markdown",
   "id": "de1ec057-b236-463c-97ef-304f75eeb940",
   "metadata": {},
   "source": [
    "* Class Batman"
   ]
  },
  {
   "cell_type": "code",
   "execution_count": 347,
   "id": "398972ea-fd54-4e37-83fd-f5cf417b5773",
   "metadata": {
    "tags": []
   },
   "outputs": [
    {
     "ename": "ModuleNotFoundError",
     "evalue": "No module named 'human'",
     "output_type": "error",
     "traceback": [
      "\u001b[1;31m---------------------------------------------------------------------------\u001b[0m",
      "\u001b[1;31mModuleNotFoundError\u001b[0m                       Traceback (most recent call last)",
      "Cell \u001b[1;32mIn[347], line 1\u001b[0m\n\u001b[1;32m----> 1\u001b[0m \u001b[38;5;28;01mfrom\u001b[39;00m \u001b[38;5;21;01mhuman\u001b[39;00m \u001b[38;5;28;01mimport\u001b[39;00m Human\n\u001b[0;32m      2\u001b[0m \u001b[38;5;28;01mclass\u001b[39;00m \u001b[38;5;21;01mSuperhero\u001b[39;00m(Human):\n\u001b[0;32m      3\u001b[0m     species\u001b[38;5;241m=\u001b[39m\u001b[38;5;124m'\u001b[39m\u001b[38;5;124mSuperhuman\u001b[39m\u001b[38;5;124m'\u001b[39m\n",
      "\u001b[1;31mModuleNotFoundError\u001b[0m: No module named 'human'"
     ]
    }
   ],
   "source": [
    "from human import Human\n",
    "class Superhero(Human):\n",
    "    species='Superhuman'\n",
    "    def __init(self, name, movie=False, superpowers=[\"super strength\", \"bulletproofing\"]):\n",
    "        self.fictional = True\n",
    "        self.movie = movie\n",
    "        self.superpowers = superpowers\n",
    "        super().__init__(name)\n",
    "    def sing(self):\n",
    "        return 'Dun dun DUN!'\n",
    "    def boast(self):\n",
    "        for power in self.superpowers:\n",
    "            print(\"I weild the power of {pow]!\".format(pow=power))\n",
    "if __name__=='__mainMM':\n",
    "    sup=Superhero(name=\"Tick\")\n",
    "    if isinstance(sup, Human):\n",
    "        print('I am human')\n",
    "    if type(sup) is Superhero:\n",
    "        print('I am a superhero')\n",
    "    print(Superhero.__mro__)\n",
    "    print(sup.get_species())\n",
    "    print(sup.sing())\n",
    "    sup.say('Spoon')\n",
    "    sup.boast()\n",
    "    sup.age=31\n",
    "    print(sup.age)\n",
    "    pritn('Am I Oscar eligible?'+str(sup.movie))"
   ]
  },
  {
   "cell_type": "code",
   "execution_count": 349,
   "id": "0be90ffc-b727-4a23-a6c5-69450b4e6175",
   "metadata": {
    "tags": []
   },
   "outputs": [
    {
     "name": "stdout",
     "output_type": "stream",
     "text": [
      "... ... ...\n",
      "True\n"
     ]
    }
   ],
   "source": [
    "class Bat:\n",
    "    species='Baty'\n",
    "    def __init__(self, can_fly=True):\n",
    "        self.fly=can_fly\n",
    "    def say(self, msg):\n",
    "        msg='... ... ...'\n",
    "        return msg\n",
    "    def sonar(self):\n",
    "        return '))) ... ((('\n",
    "if __name__ == '__main__':\n",
    "    b = Bat()\n",
    "    print(b.say('hello'))\n",
    "    print(b.fly)"
   ]
  },
  {
   "cell_type": "code",
   "execution_count": 350,
   "id": "7e4bcf28-9244-460d-84e6-dd74ba08ebd5",
   "metadata": {
    "tags": []
   },
   "outputs": [
    {
     "ename": "ModuleNotFoundError",
     "evalue": "No module named 'superhero'",
     "output_type": "error",
     "traceback": [
      "\u001b[1;31m---------------------------------------------------------------------------\u001b[0m",
      "\u001b[1;31mModuleNotFoundError\u001b[0m                       Traceback (most recent call last)",
      "Cell \u001b[1;32mIn[350], line 1\u001b[0m\n\u001b[1;32m----> 1\u001b[0m \u001b[38;5;28;01mfrom\u001b[39;00m \u001b[38;5;21;01msuperhero\u001b[39;00m \u001b[38;5;28;01mimport\u001b[39;00m Superhero\n\u001b[0;32m      2\u001b[0m \u001b[38;5;28;01mfrom\u001b[39;00m \u001b[38;5;21;01mbat\u001b[39;00m \u001b[38;5;28;01mimport\u001b[39;00m Bat\n\u001b[0;32m      3\u001b[0m \u001b[38;5;28;01mclass\u001b[39;00m \u001b[38;5;21;01mBatman\u001b[39;00m(Superhero, Bat):\n",
      "\u001b[1;31mModuleNotFoundError\u001b[0m: No module named 'superhero'"
     ]
    }
   ],
   "source": [
    "from superhero import Superhero\n",
    "from bat import Bat\n",
    "class Batman(Superhero, Bat):\n",
    "    def __init__(self, *args,**kwargs):\n",
    "        Superhero.__init__(self, 'anonymous', movie=True,superpowers=['Wealthy'], *args, **kwargs)\n",
    "        Bat.__init__(self, *args, can_fly=False, **kwargs)\n",
    "        self.name = 'Sad Affleck'\n",
    "    def sing(self):\n",
    "        return 'nan nan nan nan nan batman!'\n",
    "if __name__=='__main__':\n",
    "    print(Batman.__mro__)\n",
    "    print(sup.get_species())\n",
    "    print(sup.sing())\n",
    "    sup.say('I agree')\n",
    "    print(sup.sonar())\n",
    "    sup.age = 100\n",
    "    print(sup.age)\n",
    "    print('Can I fly? ' + str(sup.fly))"
   ]
  },
  {
   "cell_type": "markdown",
   "id": "5d2015aa-8e56-4814-9c17-9bcc739d80cf",
   "metadata": {},
   "source": [
    "7. Advanced\n",
    "----------"
   ]
  },
  {
   "cell_type": "code",
   "execution_count": 351,
   "id": "910e0b51-c999-4fb9-ac42-a4187e34692e",
   "metadata": {
    "tags": []
   },
   "outputs": [
    {
     "name": "stdout",
     "output_type": "stream",
     "text": [
      "2\n",
      "4\n",
      "6\n",
      "8\n",
      "10\n",
      "12\n",
      "14\n",
      "16\n",
      "18\n",
      "20\n",
      "22\n",
      "24\n",
      "26\n",
      "28\n",
      "30\n"
     ]
    }
   ],
   "source": [
    "def double_numbers(iterable):\n",
    "    for i in iterable:\n",
    "        yield i+i\n",
    "for i in double_numbers(range(1, 900000000)):\n",
    "    print(i)\n",
    "    if i>=30:\n",
    "        break"
   ]
  },
  {
   "cell_type": "code",
   "execution_count": 353,
   "id": "b3ac2374-6cce-4b26-a3d6-edf46e32a7c6",
   "metadata": {
    "tags": []
   },
   "outputs": [
    {
     "name": "stdout",
     "output_type": "stream",
     "text": [
      "-1\n",
      "-2\n",
      "-3\n",
      "-4\n",
      "-5\n"
     ]
    }
   ],
   "source": [
    "values = (-x for x in [1,2,3,4,5])\n",
    "for x in values:\n",
    "    print(x)  "
   ]
  },
  {
   "cell_type": "code",
   "execution_count": 354,
   "id": "e7b0e839-b8f1-4229-9bc2-7879e42b6596",
   "metadata": {
    "tags": []
   },
   "outputs": [
    {
     "name": "stdout",
     "output_type": "stream",
     "text": [
      "[-1, -2, -3, -4, -5]\n"
     ]
    }
   ],
   "source": [
    "values = (-x for x in [1,2,3,4,5])\n",
    "gen_to_list = list(values)\n",
    "print(gen_to_list)"
   ]
  },
  {
   "cell_type": "code",
   "execution_count": 355,
   "id": "6050eec2-6926-4baf-aa2b-14481033f3ab",
   "metadata": {
    "tags": []
   },
   "outputs": [
    {
     "name": "stdout",
     "output_type": "stream",
     "text": [
      "Can you buy me a beer?\n",
      "Can you buy me a beer? Please! I am poor :(\n"
     ]
    }
   ],
   "source": [
    "from functools import wraps\n",
    "def beg(target_function):\n",
    "    @wraps(target_function)\n",
    "    def wrapper(*args, **kwargs):\n",
    "        msg, say_please = target_function(*args, **kwargs)\n",
    "        if say_please:\n",
    "            return \"{} {}\".format(msg, \"Please! I am poor :(\")\n",
    "        return msg\n",
    "\n",
    "    return wrapper\n",
    "@beg\n",
    "def say(say_please=False):\n",
    "    msg = \"Can you buy me a beer?\"\n",
    "    return msg, say_please\n",
    "\n",
    "print(say())\n",
    "print(say(say_please=True))"
   ]
  },
  {
   "cell_type": "code",
   "execution_count": null,
   "id": "6cb7d7dc-08c0-4f95-840e-4f217ad421fb",
   "metadata": {},
   "outputs": [],
   "source": []
  }
 ],
 "metadata": {
  "kernelspec": {
   "display_name": "Python 3 (ipykernel)",
   "language": "python",
   "name": "python3"
  },
  "language_info": {
   "codemirror_mode": {
    "name": "ipython",
    "version": 3
   },
   "file_extension": ".py",
   "mimetype": "text/x-python",
   "name": "python",
   "nbconvert_exporter": "python",
   "pygments_lexer": "ipython3",
   "version": "3.11.2"
  }
 },
 "nbformat": 4,
 "nbformat_minor": 5
}
